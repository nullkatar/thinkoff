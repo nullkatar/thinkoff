{
 "cells": [
  {
   "cell_type": "code",
   "execution_count": 1,
   "metadata": {},
   "outputs": [
    {
     "name": "stdout",
     "output_type": "stream",
     "text": [
      "YT2R\n",
      "YTRR\n"
     ]
    }
   ],
   "source": [
    "str = input()\n",
    "i = 0;\n",
    "while i < len(str):\n",
    "    if str[i].isdigit():\n",
    "        for j in range(int(str[i])):\n",
    "            print(str[i+1], end = '')\n",
    "        i = i + 1\n",
    "    else:\n",
    "        print(str[i], end = '')\n",
    "    i = i + 1\n",
    "print()"
   ]
  },
  {
   "cell_type": "code",
   "execution_count": null,
   "metadata": {
    "collapsed": true
   },
   "outputs": [],
   "source": []
  }
 ],
 "metadata": {
  "kernelspec": {
   "display_name": "Python 3",
   "language": "python",
   "name": "python3"
  },
  "language_info": {
   "codemirror_mode": {
    "name": "ipython",
    "version": 3
   },
   "file_extension": ".py",
   "mimetype": "text/x-python",
   "name": "python",
   "nbconvert_exporter": "python",
   "pygments_lexer": "ipython3",
   "version": "3.6.2"
  }
 },
 "nbformat": 4,
 "nbformat_minor": 2
}
