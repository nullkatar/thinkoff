{
 "cells": [
  {
   "cell_type": "code",
   "execution_count": 3,
   "metadata": {},
   "outputs": [
    {
     "ename": "IndentationError",
     "evalue": "unexpected unindent (<ipython-input-3-0fa4f19953c6>, line 42)",
     "output_type": "error",
     "traceback": [
      "\u001b[1;36m  File \u001b[1;32m\"<ipython-input-3-0fa4f19953c6>\"\u001b[1;36m, line \u001b[1;32m42\u001b[0m\n\u001b[1;33m    user_args = sys.argv[1:]\u001b[0m\n\u001b[1;37m                            ^\u001b[0m\n\u001b[1;31mIndentationError\u001b[0m\u001b[1;31m:\u001b[0m unexpected unindent\n"
     ]
    }
   ],
   "source": [
    "import sys\n",
    "\n",
    "def add(out_l, in_l):\n",
    "    for l in in_l:\n",
    "            out_l.extend(l) if type(l) == list else out_l.append(l)  \n",
    "        \n",
    "def inverse_row(N, K, start, end):\n",
    "    try:\n",
    "        l = []\n",
    "        if K == 0:\n",
    "            return [x for x in range(start, end + 1)]\n",
    "        if K > 2 * N - 3:\n",
    "            add(l, [end, inverse_row(N - 2, K - (2 * N - 3), start + 1, end - 1), start])\n",
    "            return l\n",
    "\n",
    "        n = (K + 3) / 2\n",
    "\n",
    "        if (K + 3) % 2 == 0:\n",
    "            g1 = [x for x in range(start + 1, start + n - 1)]\n",
    "            g2 = [x for x in range(start + n, end + 1)]\n",
    "            add(l, [start + n - 1, g1, start, g2])\n",
    "            return l\n",
    "        \n",
    "        if n > 3:\n",
    "            g1 = [x for x in range(start + 3, start + n - 1)]\n",
    "            g2 = [x for x in range(start + n, end + 1)]\n",
    "            add(l, [start + n - 1, start + 2, start + 1, g1, start, g2])\n",
    "            return l\n",
    "        \n",
    "        if N - n >= 2:\n",
    "            print(3)\n",
    "            g1 = [x for x in range(start + 1, start + n - 1)]\n",
    "            g2 = [x for x in range(start + n + 2, end + 1)]\n",
    "            add(l, [start + n - 1, g1, start, start + n + 1, start + n, g2])\n",
    "            return l\n",
    "\n",
    "        if N - n == 1:\n",
    "            g1 = [x for x in range(start + 1, start + n - 1)]\n",
    "            add(l, [start + n - 1, g1, end, start])\n",
    "            return l\n",
    "\n",
    "user_args = sys.argv[1:]\n",
    "\n",
    "N, K = int(user_args[0]), int(user_args[1])\n",
    "\n",
    "if N == 1:\n",
    "    return \"1\"\n",
    "\n",
    "l = inverse_row(N, K, start=1, end=N)\n",
    "\n",
    "print(\" \".join(map(str, l)))"
   ]
  },
  {
   "cell_type": "code",
   "execution_count": null,
   "metadata": {
    "collapsed": true
   },
   "outputs": [],
   "source": []
  }
 ],
 "metadata": {
  "kernelspec": {
   "display_name": "Python 2",
   "language": "python",
   "name": "python2"
  },
  "language_info": {
   "codemirror_mode": {
    "name": "ipython",
    "version": 2
   },
   "file_extension": ".py",
   "mimetype": "text/x-python",
   "name": "python",
   "nbconvert_exporter": "python",
   "pygments_lexer": "ipython2",
   "version": "2.7.13"
  }
 },
 "nbformat": 4,
 "nbformat_minor": 2
}
