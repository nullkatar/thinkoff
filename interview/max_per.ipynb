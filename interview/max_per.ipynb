{
 "cells": [
  {
   "cell_type": "code",
   "execution_count": 13,
   "metadata": {},
   "outputs": [
    {
     "name": "stdout",
     "output_type": "stream",
     "text": [
      "4\n",
      "0 0 \n",
      "0 4 \n",
      "2 0 \n",
      "3 0 \n",
      "9\n"
     ]
    }
   ],
   "source": [
    "from math import sqrt\n",
    "\n",
    "n = int(input())\n",
    "a1 = [0] * n\n",
    "a2 = [0] * n\n",
    "new_per = 0\n",
    "max_per = 0\n",
    "\n",
    "for i in range(n):\n",
    "    str1 = input()\n",
    "    str_norm = str1.split()\n",
    "    a1[i] = int(str_norm[0])\n",
    "    a2[i] = int(str_norm[1])\n",
    "    \n",
    "for i in range(n):\n",
    "     for j in range(i,n):\n",
    "            for k in range(j,n):\n",
    "                len1 = sqrt((a1[j] - a1[i]) ** 2 + (a2[j] - a2[i]) ** 2  )  \n",
    "                len2 = sqrt((a1[k] - a1[i]) ** 2 + (a2[k] - a2[i]) ** 2  ) \n",
    "                len3 = sqrt((a1[k] - a1[j]) ** 2 + (a2[k] - a2[j]) ** 2  )\n",
    "                new_per = len1 + len2 + len3\n",
    "                if (max_per < new_per) and (len1 < len2 + len3) and (len2 < len1 + len3) and (len3 < len1 + len2):\n",
    "                    max_per = new_per\n",
    "print (max_per)"
   ]
  },
  {
   "cell_type": "code",
   "execution_count": null,
   "metadata": {
    "collapsed": true
   },
   "outputs": [],
   "source": []
  }
 ],
 "metadata": {
  "kernelspec": {
   "display_name": "Python 3",
   "language": "python",
   "name": "python3"
  },
  "language_info": {
   "codemirror_mode": {
    "name": "ipython",
    "version": 3
   },
   "file_extension": ".py",
   "mimetype": "text/x-python",
   "name": "python",
   "nbconvert_exporter": "python",
   "pygments_lexer": "ipython3",
   "version": "3.6.2"
  }
 },
 "nbformat": 4,
 "nbformat_minor": 2
}
