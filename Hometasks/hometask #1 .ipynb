{
 "cells": [
  {
   "cell_type": "code",
   "execution_count": 1,
   "metadata": {},
   "outputs": [
    {
     "name": "stderr",
     "output_type": "stream",
     "text": [
      "C:\\Users\\Leon\\AppData\\Local\\conda\\conda\\envs\\ipykernel_py3\\lib\\site-packages\\sklearn\\cross_validation.py:41: DeprecationWarning: This module was deprecated in version 0.18 in favor of the model_selection module into which all the refactored classes and functions are moved. Also note that the interface of the new CV iterators are different from that of this module. This module will be removed in 0.20.\n",
      "  \"This module will be removed in 0.20.\", DeprecationWarning)\n"
     ]
    }
   ],
   "source": [
    "from sklearn.datasets import fetch_20newsgroups \n",
    "from sklearn.pipeline import make_pipeline \n",
    "from sklearn.cross_validation import cross_val_score \n",
    "from sklearn.feature_extraction.text import CountVectorizer, TfidfVectorizer \n",
    "from sklearn.linear_model import LogisticRegression \n",
    "from itertools import product \n",
    "from sklearn.svm import LinearSVC \n",
    "from sklearn.linear_model import SGDClassifier \n",
    "from nltk.stem.snowball import SnowballStemmer\n",
    "from sklearn import metrics\n",
    "import pandas as pd \n",
    "import numpy as np \n",
    "import re\n",
    "import itertools\n",
    "import matplotlib.pyplot as plt\n",
    "from nltk import WordNetLemmatizer\n",
    "from nltk import wordnet, pos_tag\n",
    "import nltk\n",
    "from nltk.corpus import stopwords\n",
    "import string\n",
    "from collections import OrderedDict"
   ]
  },
  {
   "cell_type": "markdown",
   "metadata": {},
   "source": [
    "# 1 Задание"
   ]
  },
  {
   "cell_type": "code",
   "execution_count": 2,
   "metadata": {
    "collapsed": true
   },
   "outputs": [],
   "source": [
    "x_ng_train = fetch_20newsgroups(subset='train', remove=('headers', 'footers', 'quotes')).data\n",
    "x_ng_test = fetch_20newsgroups(subset='test', remove=('headers', 'footers', 'quotes')).data\n",
    "y_ng_train = fetch_20newsgroups(subset='train', remove=('headers', 'footers', 'quotes')).target          \n",
    "y_ng_test = fetch_20newsgroups(subset='test', remove=('headers', 'footers', 'quotes')).target\n",
    "#закачали\n",
    "\n",
    "x_ng_train = [sent.lower() for sent in x_ng_train]                                                       \n",
    "x_ng_test = [sent.lower() for sent in x_ng_test]\n",
    "#все регистры нижние\n",
    "\n",
    "expr = r'[^\\w]'\n",
    "parser=re.compile(expr)\n",
    "x_ng_train = [parser.sub(r' ', sent) for sent in x_ng_train]                                             \n",
    "x_ng_test = [parser.sub(r' ', sent) for sent in x_ng_test]\n",
    "#выкинул всё лишнее"
   ]
  },
  {
   "cell_type": "markdown",
   "metadata": {},
   "source": [
    "# 2 Задание"
   ]
  },
  {
   "cell_type": "code",
   "execution_count": 3,
   "metadata": {},
   "outputs": [
    {
     "name": "stderr",
     "output_type": "stream",
     "text": [
      "C:\\Users\\Leon\\AppData\\Local\\conda\\conda\\envs\\ipykernel_py3\\lib\\site-packages\\sklearn\\linear_model\\stochastic_gradient.py:84: FutureWarning: max_iter and tol parameters have been added in <class 'sklearn.linear_model.stochastic_gradient.SGDClassifier'> in 0.19. If both are left unset, they default to max_iter=5 and tol=None. If tol is not None, max_iter defaults to max_iter=1000. From 0.21, default max_iter will be 1000, and default tol will be 1e-3.\n",
      "  \"and default tol will be 1e-3.\" % type(self), FutureWarning)\n"
     ]
    },
    {
     "name": "stdout",
     "output_type": "stream",
     "text": [
      "0.567882794087\n"
     ]
    },
    {
     "name": "stderr",
     "output_type": "stream",
     "text": [
      "C:\\Users\\Leon\\AppData\\Local\\conda\\conda\\envs\\ipykernel_py3\\lib\\site-packages\\sklearn\\linear_model\\stochastic_gradient.py:84: FutureWarning: max_iter and tol parameters have been added in <class 'sklearn.linear_model.stochastic_gradient.SGDClassifier'> in 0.19. If both are left unset, they default to max_iter=5 and tol=None. If tol is not None, max_iter defaults to max_iter=1000. From 0.21, default max_iter will be 1000, and default tol will be 1e-3.\n",
      "  \"and default tol will be 1e-3.\" % type(self), FutureWarning)\n"
     ]
    },
    {
     "name": "stdout",
     "output_type": "stream",
     "text": [
      "0.747659270475\n"
     ]
    }
   ],
   "source": [
    "cv = CountVectorizer()\n",
    "x_cv_matrix = cv.fit_transform(x_ng_train)\n",
    "cv_clf = SGDClassifier()\n",
    "#cv_clf.fit(x_ng_train, y_ng_train)\n",
    "cv_score = cross_val_score(cv_clf, x_cv_matrix, y_ng_train, scoring = 'accuracy').mean()\n",
    "print(cv_score)\n",
    "\n",
    "tfidf = TfidfVectorizer()\n",
    "x_tfidf_matrix = tfidf.fit_transform(x_ng_train)\n",
    "tfidf_clf = SGDClassifier()\n",
    "#tfidf_clf.fit(x_ng_train, y_ng_train)\n",
    "tfidf_score = cross_val_score(tfidf_clf, x_tfidf_matrix, y_ng_train, scoring = 'accuracy').mean()\n",
    "print(tfidf_score)"
   ]
  },
  {
   "cell_type": "code",
   "execution_count": 4,
   "metadata": {},
   "outputs": [
    {
     "name": "stdout",
     "output_type": "stream",
     "text": [
      "0.747570546648\n",
      "Wall time: 2.99 s\n"
     ]
    }
   ],
   "source": [
    "%%time\n",
    "tfidf_score = cross_val_score(tfidf_clf, x_tfidf_matrix, y_ng_train, scoring = 'accuracy').mean()\n",
    "print(tfidf_score)"
   ]
  },
  {
   "cell_type": "markdown",
   "metadata": {},
   "source": [
    "### Как видно, TfidfVectorizer даёт лучее качество. Применим его к тествовой выборке."
   ]
  },
  {
   "cell_type": "code",
   "execution_count": 5,
   "metadata": {},
   "outputs": [
    {
     "name": "stdout",
     "output_type": "stream",
     "text": [
      "             precision    recall  f1-score   support\n",
      "\n",
      "          0       0.49      0.51      0.50       319\n",
      "          1       0.68      0.71      0.70       389\n",
      "          2       0.64      0.63      0.63       394\n",
      "          3       0.66      0.66      0.66       392\n",
      "          4       0.76      0.70      0.73       385\n",
      "          5       0.81      0.71      0.76       395\n",
      "          6       0.75      0.81      0.78       390\n",
      "          7       0.79      0.70      0.74       396\n",
      "          8       0.78      0.77      0.77       398\n",
      "          9       0.54      0.83      0.65       397\n",
      "         10       0.85      0.88      0.87       399\n",
      "         11       0.85      0.71      0.77       396\n",
      "         12       0.62      0.58      0.60       393\n",
      "         13       0.73      0.81      0.76       396\n",
      "         14       0.72      0.75      0.73       394\n",
      "         15       0.65      0.81      0.72       398\n",
      "         16       0.59      0.66      0.63       364\n",
      "         17       0.82      0.75      0.78       376\n",
      "         18       0.62      0.44      0.51       310\n",
      "         19       0.50      0.23      0.31       251\n",
      "\n",
      "avg / total       0.70      0.69      0.69      7532\n",
      "\n",
      "Wall time: 6.43 s\n"
     ]
    }
   ],
   "source": [
    "%%time\n",
    "tfidf_clf.fit(x_tfidf_matrix, y_ng_train)\n",
    "predicted = tfidf_clf.predict(tfidf.transform(x_ng_test))\n",
    "print(metrics.classification_report(y_ng_test, predicted))\n",
    "#Ну, собственно мерием точность разными способами выбранного алгорима."
   ]
  },
  {
   "cell_type": "code",
   "execution_count": 6,
   "metadata": {},
   "outputs": [
    {
     "name": "stdout",
     "output_type": "stream",
     "text": [
      "\n",
      " Predicted_label = 4, True_label = 7\n",
      "i am a little confused on all of the models of the 88 89 bonnevilles  i have heard of the le se lse sse ssei  could someone tell me the differences are far as features or performance  i am also curious to know what the book value is for prefereably the 89 model  and how much less than book value can you usually get them for  in other words how much are they in demand this time of year  i have heard that the mid spring early summer is the best time to buy \n",
      "\n",
      " Predicted_label = 1, True_label = 5\n",
      "i m not familiar at all with the format of these  x face   thingies  but after seeing them in some folks  headers  i ve  got  to  see  them  and maybe make one of my own    i ve got  dpg view  on my linux box  which displays  uncompressed x faces   and i ve managed to compile  un compface too    but now that i m  looking  for them  i can t seem to find any x face  s in anyones news headers        could you  would you  please send me your  x face   header   i  know  i ll probably get a little swamped  but i can handle it       i hope \n",
      "\n",
      " Predicted_label = 8, True_label = 0\n",
      " in a word  yes  \n"
     ]
    }
   ],
   "source": [
    "for i, text in enumerate(np.asarray(x_ng_test[:3])):\n",
    "    print(\"\\n Predicted_label = {}, True_label = {}\\n{}\".format(predicted[i], y_ng_test[i], text))\n",
    "# примеры тестовой выборки с предсказаниями"
   ]
  },
  {
   "cell_type": "code",
   "execution_count": 7,
   "metadata": {
    "collapsed": true
   },
   "outputs": [],
   "source": [
    "def plot_confusion_matrix(cm, classes,\n",
    "                          normalize=False,\n",
    "                          title='Confusion matrix',\n",
    "                          cmap=plt.cm.Blues):\n",
    "    \"\"\"\n",
    "    This function prints and plots the confusion matrix.\n",
    "    Normalization can be applied by setting `normalize=True`.\n",
    "    \"\"\"\n",
    "    if normalize:\n",
    "        cm = cm.astype('float') / cm.sum(axis=1)[:, np.newaxis]\n",
    "        print(\"Normalized confusion matrix\")\n",
    "    else:\n",
    "        print('Confusion matrix, without normalization')\n",
    "\n",
    "    plt.imshow(cm, interpolation='nearest', cmap=cmap)\n",
    "    plt.title(title)\n",
    "    plt.colorbar()\n",
    "    tick_marks = np.arange(len(classes))\n",
    "    plt.xticks(tick_marks, classes, rotation=45)\n",
    "    plt.yticks(tick_marks, classes)\n",
    "\n",
    "    fmt = '.2f' if normalize else 'd'\n",
    "    thresh = cm.max() / 2.\n",
    "    for i, j in itertools.product(range(cm.shape[0]), range(cm.shape[1])):\n",
    "        plt.text(j, i, format(cm[i, j], fmt),\n",
    "                 horizontalalignment=\"center\",\n",
    "                 color=\"white\" if cm[i, j] > thresh else \"black\")\n",
    "\n",
    "    plt.tight_layout()\n",
    "    plt.ylabel('True label')\n",
    "    plt.xlabel('Predicted label')\n",
    "\n",
    "np.set_printoptions(precision=2)\n",
    "# Функция, которая магическим образом строит матрицу ошибок\n",
    "#Как говорит Стрижов: \"Если что-то есть в интернете, то нагло берём и копипастим себе в код, нечего париться. И благодарим, если считаете нужным\"\n",
    "# Спасибо."
   ]
  },
  {
   "cell_type": "code",
   "execution_count": 8,
   "metadata": {},
   "outputs": [
    {
     "name": "stdout",
     "output_type": "stream",
     "text": [
      "Normalized confusion matrix\n"
     ]
    },
    {
     "data": {
      "image/png": "[encoded data removed]",
      "text/plain": [
       "<matplotlib.figure.Figure at 0x42d1b7bc50>"
      ]
     },
     "metadata": {},
     "output_type": "display_data"
    }
   ],
   "source": [
    "titles = [i for i in range(20)]\n",
    "cnf_matrix = metrics.confusion_matrix(y_ng_test, predicted)\n",
    "plt.figure(figsize=(20,10))\n",
    "plot_confusion_matrix(cnf_matrix, classes=titles, normalize=True,\n",
    "                      title='Confusion matrix, without normalization')\n",
    "\n",
    "plt.show()"
   ]
  },
  {
   "cell_type": "code",
   "execution_count": 9,
   "metadata": {},
   "outputs": [
    {
     "data": {
      "text/plain": [
       "{0: 334,\n",
       " 1: 405,\n",
       " 2: 391,\n",
       " 3: 392,\n",
       " 4: 351,\n",
       " 5: 344,\n",
       " 6: 420,\n",
       " 7: 350,\n",
       " 8: 393,\n",
       " 9: 610,\n",
       " 10: 415,\n",
       " 11: 331,\n",
       " 12: 368,\n",
       " 13: 439,\n",
       " 14: 411,\n",
       " 15: 494,\n",
       " 16: 408,\n",
       " 17: 344,\n",
       " 18: 219,\n",
       " 19: 113}"
      ]
     },
     "execution_count": 9,
     "metadata": {},
     "output_type": "execute_result"
    }
   ],
   "source": [
    "unique, counts = np.unique(predicted, return_counts=True)\n",
    "dict(zip(titles, counts))"
   ]
  },
  {
   "cell_type": "markdown",
   "metadata": {
    "collapsed": true
   },
   "source": [
    "# 3 Задание"
   ]
  },
  {
   "cell_type": "code",
   "execution_count": 10,
   "metadata": {},
   "outputs": [
    {
     "name": "stderr",
     "output_type": "stream",
     "text": [
      "C:\\Users\\Leon\\AppData\\Local\\conda\\conda\\envs\\ipykernel_py3\\lib\\site-packages\\sklearn\\linear_model\\stochastic_gradient.py:84: FutureWarning: max_iter and tol parameters have been added in <class 'sklearn.linear_model.stochastic_gradient.SGDClassifier'> in 0.19. If both are left unset, they default to max_iter=5 and tol=None. If tol is not None, max_iter defaults to max_iter=1000. From 0.21, default max_iter will be 1000, and default tol will be 1e-3.\n",
      "  \"and default tol will be 1e-3.\" % type(self), FutureWarning)\n"
     ]
    }
   ],
   "source": [
    "#стемминг начинается\n",
    "\n",
    "stemmer = SnowballStemmer(language='english')\n",
    "x_train_stem = x_ng_train\n",
    "tfidf = TfidfVectorizer()\n",
    "clf = SGDClassifier()\n",
    "#tfidf_clf.fit(x_ng_train, y_ng_train)"
   ]
  },
  {
   "cell_type": "code",
   "execution_count": 11,
   "metadata": {},
   "outputs": [
    {
     "name": "stdout",
     "output_type": "stream",
     "text": [
      "Wall time: 2min 28s\n"
     ]
    }
   ],
   "source": [
    "%%time\n",
    "\n",
    "x_train_stem = [' '.join([stemmer.stem(word) for word in document.split()]) for document in x_train_stem]\n",
    "x_tfidf_stem = tfidf.fit_transform(x_train_stem)\n",
    "clf.fit(x_tfidf_stem, y_ng_train)"
   ]
  },
  {
   "cell_type": "code",
   "execution_count": 12,
   "metadata": {},
   "outputs": [
    {
     "name": "stdout",
     "output_type": "stream",
     "text": [
      "             precision    recall  f1-score   support\n",
      "\n",
      "          0       0.58      0.45      0.51       319\n",
      "          1       0.70      0.71      0.71       389\n",
      "          2       0.60      0.59      0.60       394\n",
      "          3       0.67      0.66      0.67       392\n",
      "          4       0.76      0.71      0.74       385\n",
      "          5       0.81      0.72      0.76       395\n",
      "          6       0.76      0.82      0.79       390\n",
      "          7       0.76      0.73      0.74       396\n",
      "          8       0.78      0.76      0.77       398\n",
      "          9       0.55      0.86      0.67       397\n",
      "         10       0.84      0.91      0.87       399\n",
      "         11       0.79      0.74      0.77       396\n",
      "         12       0.62      0.55      0.58       393\n",
      "         13       0.76      0.81      0.78       396\n",
      "         14       0.74      0.76      0.75       394\n",
      "         15       0.64      0.83      0.72       398\n",
      "         16       0.59      0.68      0.63       364\n",
      "         17       0.81      0.76      0.78       376\n",
      "         18       0.61      0.45      0.52       310\n",
      "         19       0.50      0.21      0.30       251\n",
      "\n",
      "avg / total       0.70      0.70      0.69      7532\n",
      "\n",
      "Wall time: 1min 28s\n"
     ]
    }
   ],
   "source": [
    "%%time\n",
    "\n",
    "x_test_tfidf_stem = [' '.join([stemmer.stem(word) for word in document.split()]) for document in x_ng_test]\n",
    "predicted = clf.predict(tfidf.transform(x_test_tfidf_stem))\n",
    "print(metrics.classification_report(y_ng_test, predicted))\n",
    "\n",
    "#как видно, точность не повысилась, а скорость уменьшилась в 42 раза"
   ]
  },
  {
   "cell_type": "code",
   "execution_count": 13,
   "metadata": {},
   "outputs": [
    {
     "data": {
      "text/plain": [
       "(11314, 101631)"
      ]
     },
     "execution_count": 13,
     "metadata": {},
     "output_type": "execute_result"
    }
   ],
   "source": [
    "x_tfidf_matrix.shape"
   ]
  },
  {
   "cell_type": "code",
   "execution_count": 14,
   "metadata": {},
   "outputs": [
    {
     "data": {
      "text/plain": [
       "(11314, 84435)"
      ]
     },
     "execution_count": 14,
     "metadata": {},
     "output_type": "execute_result"
    }
   ],
   "source": [
    "x_tfidf_stem.shape"
   ]
  },
  {
   "cell_type": "code",
   "execution_count": 15,
   "metadata": {},
   "outputs": [
    {
     "name": "stdout",
     "output_type": "stream",
     "text": [
      "[nltk_data] Downloading package wordnet to\n",
      "[nltk_data]     C:\\Users\\Leon\\AppData\\Roaming\\nltk_data...\n",
      "[nltk_data]   Package wordnet is already up-to-date!\n",
      "[nltk_data] Downloading package averaged_perceptron_tagger to\n",
      "[nltk_data]     C:\\Users\\Leon\\AppData\\Roaming\\nltk_data...\n",
      "[nltk_data]   Package averaged_perceptron_tagger is already up-to-\n",
      "[nltk_data]       date!\n"
     ]
    }
   ],
   "source": [
    "#лемматищация пошла\n",
    "\n",
    "nltk.download('wordnet')\n",
    "nltk.download('averaged_perceptron_tagger')\n",
    "\n",
    "def get_wordnet_pos(treebank_tag):\n",
    "    my_switch = {\n",
    "        'J': wordnet.wordnet.ADJ,\n",
    "        'V': wordnet.wordnet.VERB,\n",
    "        'N': wordnet.wordnet.NOUN,\n",
    "        'R': wordnet.wordnet.ADV,\n",
    "    }\n",
    "    for key, item in my_switch.items():\n",
    "        if treebank_tag.startswith(key):\n",
    "            return item\n",
    "    return wordnet.wordnet.NOUN\n",
    "\n",
    "def lem_document(document):\n",
    "    lemmatizer = WordNetLemmatizer()\n",
    "    tokenized_sent = document.split()\n",
    "    pos_tagged = [(word, get_wordnet_pos(tag))\n",
    "                 for word, tag in pos_tag(tokenized_sent)]\n",
    "    return ' '.join([lemmatizer.lemmatize(word, tag)\n",
    "                    for word, tag in pos_tagged])\n",
    "#Лекция(С) "
   ]
  },
  {
   "cell_type": "code",
   "execution_count": 16,
   "metadata": {},
   "outputs": [
    {
     "name": "stdout",
     "output_type": "stream",
     "text": [
      "Wall time: 12min 27s\n"
     ]
    }
   ],
   "source": [
    "%%time\n",
    "x_train_lem = map(lem_document, x_ng_train)\n",
    "x_tfidf_lem = tfidf.fit_transform(x_train_lem)\n",
    "clf.fit(x_tfidf_lem, y_ng_train)"
   ]
  },
  {
   "cell_type": "code",
   "execution_count": 17,
   "metadata": {},
   "outputs": [
    {
     "name": "stdout",
     "output_type": "stream",
     "text": [
      "             precision    recall  f1-score   support\n",
      "\n",
      "          0       0.49      0.49      0.49       319\n",
      "          1       0.71      0.70      0.70       389\n",
      "          2       0.63      0.58      0.61       394\n",
      "          3       0.68      0.66      0.67       392\n",
      "          4       0.78      0.70      0.74       385\n",
      "          5       0.81      0.73      0.77       395\n",
      "          6       0.75      0.81      0.78       390\n",
      "          7       0.76      0.72      0.74       396\n",
      "          8       0.80      0.76      0.78       398\n",
      "          9       0.57      0.83      0.67       397\n",
      "         10       0.85      0.91      0.88       399\n",
      "         11       0.83      0.71      0.77       396\n",
      "         12       0.60      0.58      0.59       393\n",
      "         13       0.76      0.80      0.78       396\n",
      "         14       0.73      0.76      0.75       394\n",
      "         15       0.66      0.81      0.72       398\n",
      "         16       0.56      0.67      0.61       364\n",
      "         17       0.80      0.77      0.79       376\n",
      "         18       0.60      0.44      0.51       310\n",
      "         19       0.48      0.25      0.33       251\n",
      "\n",
      "avg / total       0.70      0.70      0.69      7532\n",
      "\n",
      "Wall time: 7min 16s\n"
     ]
    }
   ],
   "source": [
    "%%time\n",
    "x_test_lem =  map(lem_document, x_ng_test)\n",
    "predicted = clf.predict(tfidf.transform(x_test_lem))\n",
    "print(metrics.classification_report(y_ng_test, predicted))\n",
    "#точность снова не повысилась, и стал работать ещё хуже (имхо, я не удивлён что ничего не улучшилось,\n",
    "#т.к. это во-первых английский,в нём мало окончаний в отличие от русского, да и в современном мире всё пишут под английский,\n",
    "#поэтому скорее всего люди которые писали библы, оптимизировали всё под английский)"
   ]
  },
  {
   "cell_type": "markdown",
   "metadata": {},
   "source": [
    "# 4 Задание"
   ]
  },
  {
   "cell_type": "code",
   "execution_count": 18,
   "metadata": {},
   "outputs": [
    {
     "name": "stdout",
     "output_type": "stream",
     "text": [
      "[nltk_data] Downloading package stopwords to\n",
      "[nltk_data]     C:\\Users\\Leon\\AppData\\Roaming\\nltk_data...\n",
      "[nltk_data]   Package stopwords is already up-to-date!\n"
     ]
    }
   ],
   "source": [
    "nltk.download('stopwords')\n",
    "sw_eng = set(stopwords.words('english'))"
   ]
  },
  {
   "cell_type": "code",
   "execution_count": 19,
   "metadata": {
    "collapsed": true
   },
   "outputs": [],
   "source": [
    "#удаляю стоп-слова\n",
    "x_train_clear = x_ng_train\n",
    "x_test_clear = x_ng_test\n",
    "\n",
    "x_train_clear = [' '.join([word for word in document.split() if not word in sw_eng]) for document in x_train_clear ]\n",
    "x_test_clear = [' '.join([word for word in document.split() if not word in sw_eng]) for document in x_test_clear ]"
   ]
  },
  {
   "cell_type": "code",
   "execution_count": 20,
   "metadata": {
    "collapsed": true
   },
   "outputs": [],
   "source": [
    "#пишу словарь слов и сортирую его\n",
    "frequency = {}\n",
    "for document in x_ng_train:\n",
    "    for word in document.split():\n",
    "        if word in frequency.keys():\n",
    "            frequency[word]+=1\n",
    "        else:\n",
    "            frequency.update({word:1})\n",
    "\n",
    "ordict = OrderedDict(sorted(frequency.items(), key=lambda item: item[1], reverse=True))\n",
    "orlist = sorted(list(zip(frequency.keys(), frequency.values())), key = lambda word: word[1])"
   ]
  },
  {
   "cell_type": "code",
   "execution_count": 21,
   "metadata": {
    "collapsed": true
   },
   "outputs": [],
   "source": [
    "#функция по удалению слов\n",
    "def reduce(sample, side, amount):   \n",
    "    data = sample.copy() \n",
    "    if side == 'bot':\n",
    "        words = map(lambda x: x[0], orlist[:amount])\n",
    "    elif side == 'top':\n",
    "        words = map(lambda x: x[0], orlist[-amount:])\n",
    "    elif side == 'bot & top':\n",
    "        words = list(map(lambda x: x[0], orlist[-amount:])) + list(map(lambda x: x[0], orlist[:amount]))    \n",
    "    words = list(words)\n",
    "    \n",
    "    for i, document in enumerate(data):\n",
    "        data[i] = ' '.join([x for x in data[i].split() if x not in words])\n",
    "#    print(words)\n",
    "    return data\n",
    " "
   ]
  },
  {
   "cell_type": "code",
   "execution_count": 23,
   "metadata": {},
   "outputs": [
    {
     "name": "stderr",
     "output_type": "stream",
     "text": [
      "C:\\Users\\Leon\\AppData\\Local\\conda\\conda\\envs\\ipykernel_py3\\lib\\site-packages\\sklearn\\linear_model\\stochastic_gradient.py:84: FutureWarning: max_iter and tol parameters have been added in <class 'sklearn.linear_model.stochastic_gradient.SGDClassifier'> in 0.19. If both are left unset, they default to max_iter=5 and tol=None. If tol is not None, max_iter defaults to max_iter=1000. From 0.21, default max_iter will be 1000, and default tol will be 1e-3.\n",
      "  \"and default tol will be 1e-3.\" % type(self), FutureWarning)\n"
     ]
    },
    {
     "name": "stdout",
     "output_type": "stream",
     "text": [
      "0.69556558683\n",
      "0.695167286245\n",
      "0.697424322889\n",
      "0.696627721721\n",
      "0.689192777483\n",
      "0.66502920871\n",
      "0.641529474243\n",
      "Wall time: 11min 33s\n"
     ]
    }
   ],
   "source": [
    "#исследуем качество, как видно если удалять топ самых часто уподребляемых, то точность уменьшается\n",
    "%%time\n",
    "\n",
    "tfidf_score_reduced_top = []\n",
    "\n",
    "for i in  list(range(1, 101, 50)) + list(range(101, 401, 200)) + list(range(401, 2500, 700)):\n",
    "    reduced = reduce(x_ng_train, 'top', i)\n",
    "    x_tfidf_matrix = tfidf.fit_transform(reduced)\n",
    "    tfidf_clf.fit(x_tfidf_matrix, y_ng_train)\n",
    "    predicted = tfidf_clf.predict(tfidf.transform(x_ng_test))\n",
    "    tfidf_score_reduced_top.append(metrics.accuracy_score(y_ng_test, predicted))\n",
    "    print(metrics.accuracy_score(y_ng_test, predicted))"
   ]
  },
  {
   "cell_type": "code",
   "execution_count": 27,
   "metadata": {},
   "outputs": [
    {
     "name": "stderr",
     "output_type": "stream",
     "text": [
      "C:\\Users\\Leon\\AppData\\Local\\conda\\conda\\envs\\ipykernel_py3\\lib\\site-packages\\sklearn\\linear_model\\stochastic_gradient.py:84: FutureWarning: max_iter and tol parameters have been added in <class 'sklearn.linear_model.stochastic_gradient.SGDClassifier'> in 0.19. If both are left unset, they default to max_iter=5 and tol=None. If tol is not None, max_iter defaults to max_iter=1000. From 0.21, default max_iter will be 1000, and default tol will be 1e-3.\n",
      "  \"and default tol will be 1e-3.\" % type(self), FutureWarning)\n"
     ]
    },
    {
     "name": "stdout",
     "output_type": "stream",
     "text": [
      "Wall time: 10min 12s\n"
     ]
    }
   ],
   "source": [
    "%%time\n",
    "\n",
    "tfidf_score_reduced_bot = []\n",
    "\n",
    "for i in  list(range(1, 101, 50)) + list(range(101, 401, 200)) + list(range(401, 2500, 700)):\n",
    "    reduced = reduce(x_ng_train, 'bot', i)\n",
    "    x_tfidf_matrix = tfidf.fit_transform(reduced)\n",
    "    tfidf_clf.fit(x_tfidf_matrix, y_ng_train)\n",
    "    predicted = tfidf_clf.predict(tfidf.transform(x_ng_test))\n",
    "    tfidf_score_reduced_bot.append(metrics.accuracy_score(y_ng_test, predicted))\n",
    "    print(metrics.accuracy_score(y_ng_test, predicted))"
   ]
  },
  {
   "cell_type": "code",
   "execution_count": 28,
   "metadata": {},
   "outputs": [
    {
     "name": "stderr",
     "output_type": "stream",
     "text": [
      "C:\\Users\\Leon\\AppData\\Local\\conda\\conda\\envs\\ipykernel_py3\\lib\\site-packages\\sklearn\\linear_model\\stochastic_gradient.py:84: FutureWarning: max_iter and tol parameters have been added in <class 'sklearn.linear_model.stochastic_gradient.SGDClassifier'> in 0.19. If both are left unset, they default to max_iter=5 and tol=None. If tol is not None, max_iter defaults to max_iter=1000. From 0.21, default max_iter will be 1000, and default tol will be 1e-3.\n",
      "  \"and default tol will be 1e-3.\" % type(self), FutureWarning)\n"
     ]
    },
    {
     "name": "stdout",
     "output_type": "stream",
     "text": [
      "Wall time: 12min 43s\n"
     ]
    }
   ],
   "source": [
    "%%time\n",
    "\n",
    "tfidf_score_reduced_top_bot = []\n",
    "\n",
    "for i in  list(range(1, 101, 50)) + list(range(101, 401, 200)) + list(range(401, 2500, 700)):\n",
    "    reduced = reduce(x_ng_train, 'bot & top', i)\n",
    "    x_tfidf_matrix = tfidf.fit_transform(reduced)\n",
    "    tfidf_clf.fit(x_tfidf_matrix, y_ng_train)\n",
    "    predicted = tfidf_clf.predict(tfidf.transform(x_ng_test))\n",
    "    tfidf_score_reduced_top_bot.append(metrics.accuracy_score(y_ng_test, predicted))"
   ]
  },
  {
   "cell_type": "code",
   "execution_count": 29,
   "metadata": {},
   "outputs": [
    {
     "data": {
      "image/png": "[encoded data removed]",
      "text/plain": [
       "<matplotlib.figure.Figure at 0x42da8faef0>"
      ]
     },
     "metadata": {},
     "output_type": "display_data"
    }
   ],
   "source": [
    "x = list(range(1, 101, 50)) + list(range(101, 401, 200)) + list(range(401, 2500, 700))\n",
    "\n",
    "plt.plot(x, tfidf_score_reduced_bot, label='bot')\n",
    "plt.plot(x, tfidf_score_reduced_top, label='top')\n",
    "plt.plot(x, tfidf_score_reduced_top_bot, label='bot & top')\n",
    "\n",
    "plt.ylabel('Score')\n",
    "plt.xlabel('Amount of removed words')\n",
    "\n",
    "plt.legend()\n",
    "\n",
    "plt.show()\n",
    "# Хоба, я не удивлён что удаляя снизу слова, то точность не поменяется, т.к. они не особо учавствуют в обучении (т.к. редкие),\n",
    "#и очевидно что точность падает, когда мы удаляем топовые по употреблению слова, т.к. на них и завязаны основные связи."
   ]
  },
  {
   "cell_type": "markdown",
   "metadata": {},
   "source": [
    "# Дополнительное №1"
   ]
  },
  {
   "cell_type": "code",
   "execution_count": 30,
   "metadata": {},
   "outputs": [
    {
     "name": "stderr",
     "output_type": "stream",
     "text": [
      "C:\\Users\\Leon\\AppData\\Local\\conda\\conda\\envs\\ipykernel_py3\\lib\\site-packages\\sklearn\\linear_model\\stochastic_gradient.py:84: FutureWarning: max_iter and tol parameters have been added in <class 'sklearn.linear_model.stochastic_gradient.SGDClassifier'> in 0.19. If both are left unset, they default to max_iter=5 and tol=None. If tol is not None, max_iter defaults to max_iter=1000. From 0.21, default max_iter will be 1000, and default tol will be 1e-3.\n",
      "  \"and default tol will be 1e-3.\" % type(self), FutureWarning)\n"
     ]
    },
    {
     "name": "stdout",
     "output_type": "stream",
     "text": [
      "0.591493849004\n"
     ]
    },
    {
     "name": "stderr",
     "output_type": "stream",
     "text": [
      "C:\\Users\\Leon\\AppData\\Local\\conda\\conda\\envs\\ipykernel_py3\\lib\\site-packages\\sklearn\\linear_model\\stochastic_gradient.py:84: FutureWarning: max_iter and tol parameters have been added in <class 'sklearn.linear_model.stochastic_gradient.SGDClassifier'> in 0.19. If both are left unset, they default to max_iter=5 and tol=None. If tol is not None, max_iter defaults to max_iter=1000. From 0.21, default max_iter will be 1000, and default tol will be 1e-3.\n",
      "  \"and default tol will be 1e-3.\" % type(self), FutureWarning)\n"
     ]
    },
    {
     "name": "stdout",
     "output_type": "stream",
     "text": [
      "0.533438662634\n"
     ]
    },
    {
     "name": "stderr",
     "output_type": "stream",
     "text": [
      "C:\\Users\\Leon\\AppData\\Local\\conda\\conda\\envs\\ipykernel_py3\\lib\\site-packages\\sklearn\\linear_model\\stochastic_gradient.py:84: FutureWarning: max_iter and tol parameters have been added in <class 'sklearn.linear_model.stochastic_gradient.SGDClassifier'> in 0.19. If both are left unset, they default to max_iter=5 and tol=None. If tol is not None, max_iter defaults to max_iter=1000. From 0.21, default max_iter will be 1000, and default tol will be 1e-3.\n",
      "  \"and default tol will be 1e-3.\" % type(self), FutureWarning)\n"
     ]
    },
    {
     "name": "stdout",
     "output_type": "stream",
     "text": [
      "0.604036665215\n"
     ]
    },
    {
     "name": "stderr",
     "output_type": "stream",
     "text": [
      "C:\\Users\\Leon\\AppData\\Local\\conda\\conda\\envs\\ipykernel_py3\\lib\\site-packages\\sklearn\\linear_model\\stochastic_gradient.py:84: FutureWarning: max_iter and tol parameters have been added in <class 'sklearn.linear_model.stochastic_gradient.SGDClassifier'> in 0.19. If both are left unset, they default to max_iter=5 and tol=None. If tol is not None, max_iter defaults to max_iter=1000. From 0.21, default max_iter will be 1000, and default tol will be 1e-3.\n",
      "  \"and default tol will be 1e-3.\" % type(self), FutureWarning)\n"
     ]
    },
    {
     "name": "stdout",
     "output_type": "stream",
     "text": [
      "0.474376249032\n"
     ]
    }
   ],
   "source": [
    "ngrams = [(1,1), (1,2), (1,3), (2, 3)]\n",
    "\n",
    "for ngram in ngrams:\n",
    "    cv = CountVectorizer(ngram_range = ngram)\n",
    "    x_cv_matrix = cv.fit_transform(x_ng_train)\n",
    "    cv_clf = SGDClassifier()\n",
    "    #cv_clf.fit(x_ng_train, y_ng_train)\n",
    "    cv_score = cross_val_score(cv_clf, x_cv_matrix, y_ng_train, scoring = 'accuracy').mean()\n",
    "    print(cv_score)"
   ]
  },
  {
   "cell_type": "code",
   "execution_count": 31,
   "metadata": {},
   "outputs": [
    {
     "name": "stderr",
     "output_type": "stream",
     "text": [
      "C:\\Users\\Leon\\AppData\\Local\\conda\\conda\\envs\\ipykernel_py3\\lib\\site-packages\\sklearn\\linear_model\\stochastic_gradient.py:84: FutureWarning: max_iter and tol parameters have been added in <class 'sklearn.linear_model.stochastic_gradient.SGDClassifier'> in 0.19. If both are left unset, they default to max_iter=5 and tol=None. If tol is not None, max_iter defaults to max_iter=1000. From 0.21, default max_iter will be 1000, and default tol will be 1e-3.\n",
      "  \"and default tol will be 1e-3.\" % type(self), FutureWarning)\n"
     ]
    },
    {
     "name": "stdout",
     "output_type": "stream",
     "text": [
      "0.746683324037\n"
     ]
    },
    {
     "name": "stderr",
     "output_type": "stream",
     "text": [
      "C:\\Users\\Leon\\AppData\\Local\\conda\\conda\\envs\\ipykernel_py3\\lib\\site-packages\\sklearn\\linear_model\\stochastic_gradient.py:84: FutureWarning: max_iter and tol parameters have been added in <class 'sklearn.linear_model.stochastic_gradient.SGDClassifier'> in 0.19. If both are left unset, they default to max_iter=5 and tol=None. If tol is not None, max_iter defaults to max_iter=1000. From 0.21, default max_iter will be 1000, and default tol will be 1e-3.\n",
      "  \"and default tol will be 1e-3.\" % type(self), FutureWarning)\n"
     ]
    },
    {
     "name": "stdout",
     "output_type": "stream",
     "text": [
      "0.751635942579\n"
     ]
    },
    {
     "name": "stderr",
     "output_type": "stream",
     "text": [
      "C:\\Users\\Leon\\AppData\\Local\\conda\\conda\\envs\\ipykernel_py3\\lib\\site-packages\\sklearn\\linear_model\\stochastic_gradient.py:84: FutureWarning: max_iter and tol parameters have been added in <class 'sklearn.linear_model.stochastic_gradient.SGDClassifier'> in 0.19. If both are left unset, they default to max_iter=5 and tol=None. If tol is not None, max_iter defaults to max_iter=1000. From 0.21, default max_iter will be 1000, and default tol will be 1e-3.\n",
      "  \"and default tol will be 1e-3.\" % type(self), FutureWarning)\n"
     ]
    },
    {
     "name": "stdout",
     "output_type": "stream",
     "text": [
      "0.743948574013\n"
     ]
    },
    {
     "name": "stderr",
     "output_type": "stream",
     "text": [
      "C:\\Users\\Leon\\AppData\\Local\\conda\\conda\\envs\\ipykernel_py3\\lib\\site-packages\\sklearn\\linear_model\\stochastic_gradient.py:84: FutureWarning: max_iter and tol parameters have been added in <class 'sklearn.linear_model.stochastic_gradient.SGDClassifier'> in 0.19. If both are left unset, they default to max_iter=5 and tol=None. If tol is not None, max_iter defaults to max_iter=1000. From 0.21, default max_iter will be 1000, and default tol will be 1e-3.\n",
      "  \"and default tol will be 1e-3.\" % type(self), FutureWarning)\n"
     ]
    },
    {
     "name": "stdout",
     "output_type": "stream",
     "text": [
      "0.627719191331\n"
     ]
    }
   ],
   "source": [
    "for ngram in ngrams:\n",
    "    tfidf = TfidfVectorizer(ngram_range = ngram)\n",
    "    x_tfidf_matrix = tfidf.fit_transform(x_ng_train)\n",
    "    tfidf_clf = SGDClassifier()\n",
    "    #tfidf_clf.fit(x_ng_train, y_ng_train)\n",
    "    tfidf_score = cross_val_score(tfidf_clf, x_tfidf_matrix, y_ng_train, scoring = 'accuracy').mean()\n",
    "    print(tfidf_score)"
   ]
  },
  {
   "cell_type": "markdown",
   "metadata": {},
   "source": [
    "# Дополнительное №2"
   ]
  },
  {
   "cell_type": "code",
   "execution_count": 42,
   "metadata": {},
   "outputs": [
    {
     "data": {
      "image/png": "[encoded data removed]",
      "text/plain": [
       "<matplotlib.figure.Figure at 0x42828a3c18>"
      ]
     },
     "metadata": {},
     "output_type": "display_data"
    }
   ],
   "source": [
    "#Закон Ципфа\n",
    "plt.plot(list(ordict.values())[:1000])\n",
    "plt.show()\n",
    "#Вполне таки похоже на гиперболу"
   ]
  },
  {
   "cell_type": "code",
   "execution_count": 48,
   "metadata": {},
   "outputs": [],
   "source": [
    "#Закон Хипса\n",
    "\n",
    "amount = len(x_ng_train)\n",
    "amount_of_words_in_doc = []\n",
    "amount_of_uni_words_in_doc = []\n",
    "word_counter = 0\n",
    "\n",
    "for document in x_ng_train:\n",
    "    amount_of_words_in_doc.append(document.count(' ') + 1)\n",
    "#посчитал количество слов в сэмпле\n",
    "\n",
    "for document in x_ng_train:\n",
    "    word_counter = 0\n",
    "    for word in document.split():\n",
    "        if word in frequency.keys():\n",
    "            word_counter +=1\n",
    "    amount_of_uni_words_in_doc.append(word_counter)\n",
    "#посчитал количество уникальных слов    "
   ]
  },
  {
   "cell_type": "code",
   "execution_count": 51,
   "metadata": {},
   "outputs": [
    {
     "name": "stderr",
     "output_type": "stream",
     "text": [
      "C:\\Users\\Leon\\AppData\\Local\\conda\\conda\\envs\\ipykernel_py3\\lib\\site-packages\\matplotlib\\axes\\_axes.py:545: UserWarning: No labelled objects found. Use label='...' kwarg on individual plots.\n",
      "  warnings.warn(\"No labelled objects found. \"\n"
     ]
    },
    {
     "data": {
      "image/png": "[encoded data removed]",
      "text/plain": [
       "<matplotlib.figure.Figure at 0x42d54f72b0>"
      ]
     },
     "metadata": {},
     "output_type": "display_data"
    }
   ],
   "source": [
    "plt.plot(amount_of_words_in_doc, amount_of_uni_words_in_doc, 'ro')\n",
    "\n",
    "plt.ylabel('Amount of unique words')\n",
    "plt.xlabel('Amount of words in document')\n",
    "\n",
    "plt.legend()\n",
    "plt.show()\n",
    "\n",
    "#Хрень какая-то"
   ]
  }
 ],
 "metadata": {
  "kernelspec": {
   "display_name": "Python 3",
   "language": "python",
   "name": "python3"
  },
  "language_info": {
   "codemirror_mode": {
    "name": "ipython",
    "version": 3
   },
   "file_extension": ".py",
   "mimetype": "text/x-python",
   "name": "python",
   "nbconvert_exporter": "python",
   "pygments_lexer": "ipython3",
   "version": "3.6.2"
  }
 },
 "nbformat": 4,
 "nbformat_minor": 2
}
