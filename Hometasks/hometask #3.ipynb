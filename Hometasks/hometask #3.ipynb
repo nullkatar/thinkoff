{
  "nbformat": 4,
  "nbformat_minor": 0,
  "metadata": {
    "colab": {
      "name": "hometask #3.ipynb",
      "version": "0.3.2",
      "provenance": [],
      "collapsed_sections": [
        "aUzok0OydIOz"
      ],
      "toc_visible": true
    },
    "kernelspec": {
      "display_name": "Python 3",
      "language": "python",
      "name": "python3"
    },
    "accelerator": "GPU"
  },
  "cells": [
    {
      "metadata": {
        "id": "p6ISv94U4GtK",
        "colab_type": "text"
      },
      "cell_type": "markdown",
      "source": [
        "# Сентимент для твиттера\n",
        "\n",
        "[Данные](https://docs.google.com/file/d/0B04GJPshIjmPRnZManQwWEdTZjg/edit) [sentiment140](http://help.sentiment140.com/for-students) это англоязычный твиттер.\n",
        "\n",
        "Он уже поделен на train/test. Train часть была размечена автоматически -- по наличию определенных эмоджи в тексте.\n",
        "\n",
        "Тест часть была размечена людьми. Таким образом задача состоит в том, чтобы обучиться на шумных данных и сделать хорошие предсказания на тестовой выборке. И, конечно же, нужно превзойти бейзлайн решение."
      ]
    },
    {
      "metadata": {
        "id": "CIVXkkY1EpRt",
        "colab_type": "text"
      },
      "cell_type": "markdown",
      "source": [
        "# New Section"
      ]
    },
    {
      "metadata": {
        "id": "zii4bWRnLxDv",
        "colab_type": "code",
        "colab": {}
      },
      "cell_type": "code",
      "source": [
        "#!rm -rf d*"
      ],
      "execution_count": 0,
      "outputs": []
    },
    {
      "metadata": {
        "id": "d5BmH4Cgvkvy",
        "colab_type": "text"
      },
      "cell_type": "markdown",
      "source": [
        "Запустите следующую ячейку, если работаете в google colab. Это поможет быстро загрузить данные в текущий runtime."
      ]
    },
    {
      "metadata": {
        "id": "0pMOAJ12Jv3x",
        "colab_type": "code",
        "colab": {
          "base_uri": "https://localhost:8080/",
          "height": 332
        },
        "outputId": "700e28b3-02ea-4469-f0e0-9f259423251c"
      },
      "cell_type": "code",
      "source": [
        "!wget --load-cookies /tmp/cookies.txt \"https://docs.google.com/uc?export=download&confirm=$(wget --quiet --save-cookies /tmp/cookies.txt --keep-session-cookies --no-check-certificate 'https://docs.google.com/uc?export=download&id=0B04GJPshIjmPRnZManQwWEdTZjg' -O- | sed -rn 's/.*confirm=([0-9A-Za-z_]+).*/\\1\\n/p')&id=0B04GJPshIjmPRnZManQwWEdTZjg\" -O dataset.zip && rm -rf /tmp/cookies.txt"
      ],
      "execution_count": 1,
      "outputs": [
        {
          "output_type": "stream",
          "text": [
            "--2018-10-14 16:10:11--  https://docs.google.com/uc?export=download&confirm=&id=0B04GJPshIjmPRnZManQwWEdTZjg\n",
            "Resolving docs.google.com (docs.google.com)... 74.125.142.139, 74.125.142.101, 74.125.142.102, ...\n",
            "Connecting to docs.google.com (docs.google.com)|74.125.142.139|:443... connected.\n",
            "HTTP request sent, awaiting response... 302 Moved Temporarily\n",
            "Location: https://doc-0o-70-docs.googleusercontent.com/docs/securesc/ha0ro937gcuc7l7deffksulhg5h7mbp1/vm59r8hukgp9sb7vs3kta6cr055dbibm/1539532800000/12624221410083370842/*/0B04GJPshIjmPRnZManQwWEdTZjg?e=download [following]\n",
            "Warning: wildcards not supported in HTTP.\n",
            "--2018-10-14 16:10:16--  https://doc-0o-70-docs.googleusercontent.com/docs/securesc/ha0ro937gcuc7l7deffksulhg5h7mbp1/vm59r8hukgp9sb7vs3kta6cr055dbibm/1539532800000/12624221410083370842/*/0B04GJPshIjmPRnZManQwWEdTZjg?e=download\n",
            "Resolving doc-0o-70-docs.googleusercontent.com (doc-0o-70-docs.googleusercontent.com)... 74.125.142.132, 2607:f8b0:400e:c08::84\n",
            "Connecting to doc-0o-70-docs.googleusercontent.com (doc-0o-70-docs.googleusercontent.com)|74.125.142.132|:443... connected.\n",
            "HTTP request sent, awaiting response... 200 OK\n",
            "Length: unspecified [application/zip]\n",
            "Saving to: ‘dataset.zip’\n",
            "\n",
            "dataset.zip             [   <=>              ]  77.59M   139MB/s    in 0.6s    \n",
            "\n",
            "2018-10-14 16:10:17 (139 MB/s) - ‘dataset.zip’ saved [81363704]\n",
            "\n"
          ],
          "name": "stdout"
        }
      ]
    },
    {
      "metadata": {
        "id": "Nb_XPmNivso-",
        "colab_type": "text"
      },
      "cell_type": "markdown",
      "source": [
        "Для google colab: распаковка данных внутри runtime."
      ]
    },
    {
      "metadata": {
        "id": "7kc-pJF6JxrP",
        "colab_type": "code",
        "colab": {
          "base_uri": "https://localhost:8080/",
          "height": 69
        },
        "outputId": "3b7a2eca-9d84-4bea-9f13-c137bd5a0e7e"
      },
      "cell_type": "code",
      "source": [
        "!unzip dataset.zip"
      ],
      "execution_count": 2,
      "outputs": [
        {
          "output_type": "stream",
          "text": [
            "Archive:  dataset.zip\n",
            "  inflating: testdata.manual.2009.06.14.csv  \n",
            "  inflating: training.1600000.processed.noemoticon.csv  \n"
          ],
          "name": "stdout"
        }
      ]
    },
    {
      "metadata": {
        "id": "EAiQbXe4v4I9",
        "colab_type": "text"
      },
      "cell_type": "markdown",
      "source": [
        "Загрузка предобученных эмбеддингов."
      ]
    },
    {
      "metadata": {
        "id": "o7skeI8PO2F7",
        "colab_type": "code",
        "colab": {
          "base_uri": "https://localhost:8080/",
          "height": 278
        },
        "outputId": "5bf97f1a-0939-46f7-ea37-ba6d9b8089ce"
      },
      "cell_type": "code",
      "source": [
        "!wget http://nlp.stanford.edu/data/wordvecs/glove.twitter.27B.zip"
      ],
      "execution_count": 3,
      "outputs": [
        {
          "output_type": "stream",
          "text": [
            "--2018-10-14 16:10:24--  http://nlp.stanford.edu/data/wordvecs/glove.twitter.27B.zip\n",
            "Resolving nlp.stanford.edu (nlp.stanford.edu)... 171.64.67.140\n",
            "Connecting to nlp.stanford.edu (nlp.stanford.edu)|171.64.67.140|:80... connected.\n",
            "HTTP request sent, awaiting response... 302 Found\n",
            "Location: https://nlp.stanford.edu/data/wordvecs/glove.twitter.27B.zip [following]\n",
            "--2018-10-14 16:10:24--  https://nlp.stanford.edu/data/wordvecs/glove.twitter.27B.zip\n",
            "Connecting to nlp.stanford.edu (nlp.stanford.edu)|171.64.67.140|:443... connected.\n",
            "HTTP request sent, awaiting response... 200 OK\n",
            "Length: 1520408741 (1.4G) [application/zip]\n",
            "Saving to: ‘glove.twitter.27B.zip’\n",
            "\n",
            "glove.twitter.27B.z 100%[===================>]   1.42G  35.3MB/s    in 45s     \n",
            "\n",
            "2018-10-14 16:11:09 (32.4 MB/s) - ‘glove.twitter.27B.zip’ saved [1520408741/1520408741]\n",
            "\n"
          ],
          "name": "stdout"
        }
      ]
    },
    {
      "metadata": {
        "id": "Ktdn8hX8O5pV",
        "colab_type": "code",
        "colab": {
          "base_uri": "https://localhost:8080/",
          "height": 104
        },
        "outputId": "8b918987-d9f0-4998-a778-da6739f2d18e"
      },
      "cell_type": "code",
      "source": [
        "!unzip glove.twitter.27B.zip"
      ],
      "execution_count": 4,
      "outputs": [
        {
          "output_type": "stream",
          "text": [
            "Archive:  glove.twitter.27B.zip\n",
            "  inflating: glove.twitter.27B.100d.txt  \n",
            "  inflating: glove.twitter.27B.200d.txt  \n",
            "  inflating: glove.twitter.27B.25d.txt  \n",
            "  inflating: glove.twitter.27B.50d.txt  \n"
          ],
          "name": "stdout"
        }
      ]
    },
    {
      "metadata": {
        "id": "zUbgIfRG4GtM",
        "colab_type": "code",
        "colab": {
          "base_uri": "https://localhost:8080/",
          "height": 34
        },
        "outputId": "e8bc6784-e691-4d56-ca5d-39f0e6bf1a14"
      },
      "cell_type": "code",
      "source": [
        "import pandas as pd\n",
        "import numpy as np\n",
        "import re\n",
        "\n",
        "np.random.seed(101)\n",
        "%pylab inline"
      ],
      "execution_count": 5,
      "outputs": [
        {
          "output_type": "stream",
          "text": [
            "Populating the interactive namespace from numpy and matplotlib\n"
          ],
          "name": "stdout"
        }
      ]
    },
    {
      "metadata": {
        "id": "mIRBlFny4GtS",
        "colab_type": "code",
        "colab": {
          "base_uri": "https://localhost:8080/",
          "height": 206
        },
        "outputId": "c07de4d4-f682-4fc4-8c8f-b2f1d415a965"
      },
      "cell_type": "code",
      "source": [
        "train = pd.read_csv(\"./training.1600000.processed.noemoticon.csv\", header=None, encoding='latin-1', sep=',')\n",
        "train.columns = ['sentiment', 'id', 'time', 'flag', 'username', 'text']\n",
        "train = train.iloc[np.random.permutation(len(train))][:100000]\n",
        "train.head()"
      ],
      "execution_count": 6,
      "outputs": [
        {
          "output_type": "execute_result",
          "data": {
            "text/html": [
              "<div>\n",
              "<style scoped>\n",
              "    .dataframe tbody tr th:only-of-type {\n",
              "        vertical-align: middle;\n",
              "    }\n",
              "\n",
              "    .dataframe tbody tr th {\n",
              "        vertical-align: top;\n",
              "    }\n",
              "\n",
              "    .dataframe thead th {\n",
              "        text-align: right;\n",
              "    }\n",
              "</style>\n",
              "<table border=\"1\" class=\"dataframe\">\n",
              "  <thead>\n",
              "    <tr style=\"text-align: right;\">\n",
              "      <th></th>\n",
              "      <th>sentiment</th>\n",
              "      <th>id</th>\n",
              "      <th>time</th>\n",
              "      <th>flag</th>\n",
              "      <th>username</th>\n",
              "      <th>text</th>\n",
              "    </tr>\n",
              "  </thead>\n",
              "  <tbody>\n",
              "    <tr>\n",
              "      <th>250977</th>\n",
              "      <td>0</td>\n",
              "      <td>1983354434</td>\n",
              "      <td>Sun May 31 12:59:58 PDT 2009</td>\n",
              "      <td>NO_QUERY</td>\n",
              "      <td>Yushimi</td>\n",
              "      <td>@Kardboard yea  ugh. I don't wanna move either...</td>\n",
              "    </tr>\n",
              "    <tr>\n",
              "      <th>150064</th>\n",
              "      <td>0</td>\n",
              "      <td>1883616871</td>\n",
              "      <td>Fri May 22 08:50:14 PDT 2009</td>\n",
              "      <td>NO_QUERY</td>\n",
              "      <td>philwade</td>\n",
              "      <td>Guess there's a first time for everything, my ...</td>\n",
              "    </tr>\n",
              "    <tr>\n",
              "      <th>710275</th>\n",
              "      <td>0</td>\n",
              "      <td>2257860040</td>\n",
              "      <td>Sat Jun 20 15:00:38 PDT 2009</td>\n",
              "      <td>NO_QUERY</td>\n",
              "      <td>JBnVFCLover786</td>\n",
              "      <td>My cousin is going to America and it's NOT FAI...</td>\n",
              "    </tr>\n",
              "    <tr>\n",
              "      <th>367641</th>\n",
              "      <td>0</td>\n",
              "      <td>2049251254</td>\n",
              "      <td>Fri Jun 05 16:33:26 PDT 2009</td>\n",
              "      <td>NO_QUERY</td>\n",
              "      <td>ChelseyHart</td>\n",
              "      <td>@mitchelmusso Ahh this is my first comment to ...</td>\n",
              "    </tr>\n",
              "    <tr>\n",
              "      <th>575674</th>\n",
              "      <td>0</td>\n",
              "      <td>2211153017</td>\n",
              "      <td>Wed Jun 17 12:30:03 PDT 2009</td>\n",
              "      <td>NO_QUERY</td>\n",
              "      <td>GGirl33</td>\n",
              "      <td>taking care of my good friend jessica she is s...</td>\n",
              "    </tr>\n",
              "  </tbody>\n",
              "</table>\n",
              "</div>"
            ],
            "text/plain": [
              "        sentiment          id                          time      flag  \\\n",
              "250977          0  1983354434  Sun May 31 12:59:58 PDT 2009  NO_QUERY   \n",
              "150064          0  1883616871  Fri May 22 08:50:14 PDT 2009  NO_QUERY   \n",
              "710275          0  2257860040  Sat Jun 20 15:00:38 PDT 2009  NO_QUERY   \n",
              "367641          0  2049251254  Fri Jun 05 16:33:26 PDT 2009  NO_QUERY   \n",
              "575674          0  2211153017  Wed Jun 17 12:30:03 PDT 2009  NO_QUERY   \n",
              "\n",
              "              username                                               text  \n",
              "250977         Yushimi  @Kardboard yea  ugh. I don't wanna move either...  \n",
              "150064        philwade  Guess there's a first time for everything, my ...  \n",
              "710275  JBnVFCLover786  My cousin is going to America and it's NOT FAI...  \n",
              "367641     ChelseyHart  @mitchelmusso Ahh this is my first comment to ...  \n",
              "575674         GGirl33  taking care of my good friend jessica she is s...  "
            ]
          },
          "metadata": {
            "tags": []
          },
          "execution_count": 6
        }
      ]
    },
    {
      "metadata": {
        "id": "KgOJMbKS4GtW",
        "colab_type": "code",
        "colab": {
          "base_uri": "https://localhost:8080/",
          "height": 34
        },
        "outputId": "39797830-c235-4669-c6f0-77aa946d9dca"
      },
      "cell_type": "code",
      "source": [
        "train.sentiment.unique()"
      ],
      "execution_count": 7,
      "outputs": [
        {
          "output_type": "execute_result",
          "data": {
            "text/plain": [
              "array([0, 4])"
            ]
          },
          "metadata": {
            "tags": []
          },
          "execution_count": 7
        }
      ]
    },
    {
      "metadata": {
        "id": "vkRO8t7h4Gta",
        "colab_type": "code",
        "colab": {
          "base_uri": "https://localhost:8080/",
          "height": 206
        },
        "outputId": "78cd8a79-e479-4099-e740-ade5a7e567dc"
      },
      "cell_type": "code",
      "source": [
        "test = pd.read_csv(\"./testdata.manual.2009.06.14.csv\", encoding='latin-1', header=None)\n",
        "test.columns = ['sentiment', 'id', 'time', 'flag', 'username', 'text']\n",
        "test = test.drop(test[test.sentiment == 2].index)\n",
        "test.head()"
      ],
      "execution_count": 8,
      "outputs": [
        {
          "output_type": "execute_result",
          "data": {
            "text/html": [
              "<div>\n",
              "<style scoped>\n",
              "    .dataframe tbody tr th:only-of-type {\n",
              "        vertical-align: middle;\n",
              "    }\n",
              "\n",
              "    .dataframe tbody tr th {\n",
              "        vertical-align: top;\n",
              "    }\n",
              "\n",
              "    .dataframe thead th {\n",
              "        text-align: right;\n",
              "    }\n",
              "</style>\n",
              "<table border=\"1\" class=\"dataframe\">\n",
              "  <thead>\n",
              "    <tr style=\"text-align: right;\">\n",
              "      <th></th>\n",
              "      <th>sentiment</th>\n",
              "      <th>id</th>\n",
              "      <th>time</th>\n",
              "      <th>flag</th>\n",
              "      <th>username</th>\n",
              "      <th>text</th>\n",
              "    </tr>\n",
              "  </thead>\n",
              "  <tbody>\n",
              "    <tr>\n",
              "      <th>0</th>\n",
              "      <td>4</td>\n",
              "      <td>3</td>\n",
              "      <td>Mon May 11 03:17:40 UTC 2009</td>\n",
              "      <td>kindle2</td>\n",
              "      <td>tpryan</td>\n",
              "      <td>@stellargirl I loooooooovvvvvveee my Kindle2. ...</td>\n",
              "    </tr>\n",
              "    <tr>\n",
              "      <th>1</th>\n",
              "      <td>4</td>\n",
              "      <td>4</td>\n",
              "      <td>Mon May 11 03:18:03 UTC 2009</td>\n",
              "      <td>kindle2</td>\n",
              "      <td>vcu451</td>\n",
              "      <td>Reading my kindle2...  Love it... Lee childs i...</td>\n",
              "    </tr>\n",
              "    <tr>\n",
              "      <th>2</th>\n",
              "      <td>4</td>\n",
              "      <td>5</td>\n",
              "      <td>Mon May 11 03:18:54 UTC 2009</td>\n",
              "      <td>kindle2</td>\n",
              "      <td>chadfu</td>\n",
              "      <td>Ok, first assesment of the #kindle2 ...it fuck...</td>\n",
              "    </tr>\n",
              "    <tr>\n",
              "      <th>3</th>\n",
              "      <td>4</td>\n",
              "      <td>6</td>\n",
              "      <td>Mon May 11 03:19:04 UTC 2009</td>\n",
              "      <td>kindle2</td>\n",
              "      <td>SIX15</td>\n",
              "      <td>@kenburbary You'll love your Kindle2. I've had...</td>\n",
              "    </tr>\n",
              "    <tr>\n",
              "      <th>4</th>\n",
              "      <td>4</td>\n",
              "      <td>7</td>\n",
              "      <td>Mon May 11 03:21:41 UTC 2009</td>\n",
              "      <td>kindle2</td>\n",
              "      <td>yamarama</td>\n",
              "      <td>@mikefish  Fair enough. But i have the Kindle2...</td>\n",
              "    </tr>\n",
              "  </tbody>\n",
              "</table>\n",
              "</div>"
            ],
            "text/plain": [
              "   sentiment  id                          time     flag  username  \\\n",
              "0          4   3  Mon May 11 03:17:40 UTC 2009  kindle2    tpryan   \n",
              "1          4   4  Mon May 11 03:18:03 UTC 2009  kindle2    vcu451   \n",
              "2          4   5  Mon May 11 03:18:54 UTC 2009  kindle2    chadfu   \n",
              "3          4   6  Mon May 11 03:19:04 UTC 2009  kindle2     SIX15   \n",
              "4          4   7  Mon May 11 03:21:41 UTC 2009  kindle2  yamarama   \n",
              "\n",
              "                                                text  \n",
              "0  @stellargirl I loooooooovvvvvveee my Kindle2. ...  \n",
              "1  Reading my kindle2...  Love it... Lee childs i...  \n",
              "2  Ok, first assesment of the #kindle2 ...it fuck...  \n",
              "3  @kenburbary You'll love your Kindle2. I've had...  \n",
              "4  @mikefish  Fair enough. But i have the Kindle2...  "
            ]
          },
          "metadata": {
            "tags": []
          },
          "execution_count": 8
        }
      ]
    },
    {
      "metadata": {
        "id": "EmwbihC_4Gtd",
        "colab_type": "code",
        "colab": {
          "base_uri": "https://localhost:8080/",
          "height": 34
        },
        "outputId": "a5f81ea7-1f26-451e-b45c-c2916a35ea44"
      },
      "cell_type": "code",
      "source": [
        "test.sentiment.unique()"
      ],
      "execution_count": 9,
      "outputs": [
        {
          "output_type": "execute_result",
          "data": {
            "text/plain": [
              "array([4, 0])"
            ]
          },
          "metadata": {
            "tags": []
          },
          "execution_count": 9
        }
      ]
    },
    {
      "metadata": {
        "id": "CVWn-M-iwFoc",
        "colab_type": "text"
      },
      "cell_type": "markdown",
      "source": [
        "Предобработка твиттов очень важна."
      ]
    },
    {
      "metadata": {
        "id": "raabazGy4Gth",
        "colab_type": "code",
        "colab": {
          "base_uri": "https://localhost:8080/",
          "height": 52
        },
        "outputId": "6ff994e5-a3a2-4c5f-ced9-bde66654c916"
      },
      "cell_type": "code",
      "source": [
        "import nltk\n",
        "nltk.download('stopwords')\n",
        "from nltk.corpus import stopwords\n",
        "\n",
        "def clean_tweet(tweet):\n",
        "    tweet = tweet.lower()\n",
        "    tweet = re.sub(r'https?:\\/\\/.*[\\r\\n]*', '', tweet, flags=re.MULTILINE)\n",
        "    tweet = re.sub(r'[_\"\\-;%()|.,+&=*%]', '', tweet)\n",
        "    tweet = re.sub(r'\\.', ' . ', tweet)\n",
        "    tweet = re.sub(r'\\!', ' !', tweet)\n",
        "    tweet = re.sub(r'\\?', ' ?', tweet)\n",
        "    tweet = re.sub(r'\\,', ' ,', tweet)\n",
        "    tweet = re.sub(r':', ' : ', tweet)\n",
        "    tweet = re.sub(r'#', ' # ', tweet)\n",
        "    #tweet = re.sub(r'@', ' @ ', tweet)\n",
        "    tweet = re.sub(r'd .c .', 'd.c.', tweet)\n",
        "    tweet = re.sub(r'u .s .', 'd.c.', tweet)\n",
        "    tweet = re.sub(r' amp ', ' and ', tweet)\n",
        "    tweet = re.sub(r'pm', ' pm ', tweet)\n",
        "    tweet = re.sub(r'news', ' news ', tweet)\n",
        "    tweet = re.sub(r' . . . ', ' ', tweet)\n",
        "    tweet = re.sub(r' .  .  . ', ' ', tweet)\n",
        "    tweet = re.sub(r' ! ! ', ' ! ', tweet)\n",
        "    tweet = re.sub(r'&amp', 'and', tweet)\n",
        "    return tweet\n",
        "\n",
        "def preprocess(text, remove_stopwords=True):\n",
        "    text = clean_tweet(text)\n",
        "    # Convert words to lower case and split them\n",
        "    text = text.lower().split()\n",
        "\n",
        "    # Optionally, remove stop words\n",
        "    if remove_stopwords:\n",
        "        stops = set(stopwords.words(\"english\"))\n",
        "        text = [w for w in text if not w in stops]\n",
        "        \n",
        "    msg = \" \".join(text)\n",
        "    \n",
        "    for t in text:\n",
        "        if t.startswith('http'):\n",
        "            msg = msg.replace(t, 'URL')\n",
        "        if t.startswith('@'):\n",
        "            msg = msg.replace(t, 'username')\n",
        "    \n",
        "    text = msg\n",
        "    \n",
        "    # Clean the text\n",
        "    text = re.sub(r\"[^a-z]\", \" \", text)\n",
        "    text = re.sub(r\"    \", \" \", text) # Remove any extra spaces\n",
        "    text = re.sub(r\"   \", \" \", text) # Remove any extra spaces\n",
        "    text = re.sub(r\"  \", \" \", text)\n",
        "    \n",
        "    # Return a list of words\n",
        "    return(text)"
      ],
      "execution_count": 10,
      "outputs": [
        {
          "output_type": "stream",
          "text": [
            "[nltk_data] Downloading package stopwords to /root/nltk_data...\n",
            "[nltk_data]   Unzipping corpora/stopwords.zip.\n"
          ],
          "name": "stdout"
        }
      ]
    },
    {
      "metadata": {
        "id": "lmgXVFcJ4Gtj",
        "colab_type": "code",
        "colab": {
          "base_uri": "https://localhost:8080/",
          "height": 69
        },
        "outputId": "ca1e9d0e-a2dd-42dd-dc5a-72b438620392"
      },
      "cell_type": "code",
      "source": [
        "# Example of preprocessor work\n",
        "print('**BEFORE PREPROC:**', train['text'].values[0])\n",
        "print('-'*4)\n",
        "print('**AFTER PREPROC:** ', preprocess(train['text'].values[0]))"
      ],
      "execution_count": 11,
      "outputs": [
        {
          "output_type": "stream",
          "text": [
            "**BEFORE PREPROC:** @Kardboard yea  ugh. I don't wanna move either because all my textbooks and noted are all out on the table. Sigh.\n",
            "----\n",
            "**AFTER PREPROC:**  username yea ugh wanna move either textbooks noted table sigh\n"
          ],
          "name": "stdout"
        }
      ]
    },
    {
      "metadata": {
        "id": "YUnabcxZ4Gtn",
        "colab_type": "code",
        "colab": {
          "base_uri": "https://localhost:8080/",
          "height": 175
        },
        "outputId": "6b348a5c-9185-4123-cf38-88456305ad31"
      },
      "cell_type": "code",
      "source": [
        "train = train[['text','sentiment']]\n",
        "train['text'] = list(map(preprocess, train['text']))\n",
        "train[:4]"
      ],
      "execution_count": 12,
      "outputs": [
        {
          "output_type": "execute_result",
          "data": {
            "text/html": [
              "<div>\n",
              "<style scoped>\n",
              "    .dataframe tbody tr th:only-of-type {\n",
              "        vertical-align: middle;\n",
              "    }\n",
              "\n",
              "    .dataframe tbody tr th {\n",
              "        vertical-align: top;\n",
              "    }\n",
              "\n",
              "    .dataframe thead th {\n",
              "        text-align: right;\n",
              "    }\n",
              "</style>\n",
              "<table border=\"1\" class=\"dataframe\">\n",
              "  <thead>\n",
              "    <tr style=\"text-align: right;\">\n",
              "      <th></th>\n",
              "      <th>text</th>\n",
              "      <th>sentiment</th>\n",
              "    </tr>\n",
              "  </thead>\n",
              "  <tbody>\n",
              "    <tr>\n",
              "      <th>250977</th>\n",
              "      <td>username yea ugh wanna move either textbooks n...</td>\n",
              "      <td>0</td>\n",
              "    </tr>\n",
              "    <tr>\n",
              "      <th>150064</th>\n",
              "      <td>guess there s first time everything cars broke...</td>\n",
              "      <td>0</td>\n",
              "    </tr>\n",
              "    <tr>\n",
              "      <th>710275</th>\n",
              "      <td>cousin going america fair know wayyy pppl does...</td>\n",
              "      <td>0</td>\n",
              "    </tr>\n",
              "    <tr>\n",
              "      <th>367641</th>\n",
              "      <td>username ahh first comment youu love xxxand pl...</td>\n",
              "      <td>0</td>\n",
              "    </tr>\n",
              "  </tbody>\n",
              "</table>\n",
              "</div>"
            ],
            "text/plain": [
              "                                                     text  sentiment\n",
              "250977  username yea ugh wanna move either textbooks n...          0\n",
              "150064  guess there s first time everything cars broke...          0\n",
              "710275  cousin going america fair know wayyy pppl does...          0\n",
              "367641  username ahh first comment youu love xxxand pl...          0"
            ]
          },
          "metadata": {
            "tags": []
          },
          "execution_count": 12
        }
      ]
    },
    {
      "metadata": {
        "id": "rCw447kl4Gtr",
        "colab_type": "code",
        "colab": {
          "base_uri": "https://localhost:8080/",
          "height": 175
        },
        "outputId": "04b55943-384b-4fe5-c138-3a010313cd4b"
      },
      "cell_type": "code",
      "source": [
        "test['text'] = list(map(preprocess, test['text']))\n",
        "test[:4]"
      ],
      "execution_count": 13,
      "outputs": [
        {
          "output_type": "execute_result",
          "data": {
            "text/html": [
              "<div>\n",
              "<style scoped>\n",
              "    .dataframe tbody tr th:only-of-type {\n",
              "        vertical-align: middle;\n",
              "    }\n",
              "\n",
              "    .dataframe tbody tr th {\n",
              "        vertical-align: top;\n",
              "    }\n",
              "\n",
              "    .dataframe thead th {\n",
              "        text-align: right;\n",
              "    }\n",
              "</style>\n",
              "<table border=\"1\" class=\"dataframe\">\n",
              "  <thead>\n",
              "    <tr style=\"text-align: right;\">\n",
              "      <th></th>\n",
              "      <th>sentiment</th>\n",
              "      <th>id</th>\n",
              "      <th>time</th>\n",
              "      <th>flag</th>\n",
              "      <th>username</th>\n",
              "      <th>text</th>\n",
              "    </tr>\n",
              "  </thead>\n",
              "  <tbody>\n",
              "    <tr>\n",
              "      <th>0</th>\n",
              "      <td>4</td>\n",
              "      <td>3</td>\n",
              "      <td>Mon May 11 03:17:40 UTC 2009</td>\n",
              "      <td>kindle2</td>\n",
              "      <td>tpryan</td>\n",
              "      <td>username loooooooovvvvvveee kindle dx cool fan...</td>\n",
              "    </tr>\n",
              "    <tr>\n",
              "      <th>1</th>\n",
              "      <td>4</td>\n",
              "      <td>4</td>\n",
              "      <td>Mon May 11 03:18:03 UTC 2009</td>\n",
              "      <td>kindle2</td>\n",
              "      <td>vcu451</td>\n",
              "      <td>reading kindle love lee childs good read</td>\n",
              "    </tr>\n",
              "    <tr>\n",
              "      <th>2</th>\n",
              "      <td>4</td>\n",
              "      <td>5</td>\n",
              "      <td>Mon May 11 03:18:54 UTC 2009</td>\n",
              "      <td>kindle2</td>\n",
              "      <td>chadfu</td>\n",
              "      <td>ok first assesment kindle fucking rocks</td>\n",
              "    </tr>\n",
              "    <tr>\n",
              "      <th>3</th>\n",
              "      <td>4</td>\n",
              "      <td>6</td>\n",
              "      <td>Mon May 11 03:19:04 UTC 2009</td>\n",
              "      <td>kindle2</td>\n",
              "      <td>SIX15</td>\n",
              "      <td>username love kindle i ve mine months never lo...</td>\n",
              "    </tr>\n",
              "  </tbody>\n",
              "</table>\n",
              "</div>"
            ],
            "text/plain": [
              "   sentiment  id                          time     flag username  \\\n",
              "0          4   3  Mon May 11 03:17:40 UTC 2009  kindle2   tpryan   \n",
              "1          4   4  Mon May 11 03:18:03 UTC 2009  kindle2   vcu451   \n",
              "2          4   5  Mon May 11 03:18:54 UTC 2009  kindle2   chadfu   \n",
              "3          4   6  Mon May 11 03:19:04 UTC 2009  kindle2    SIX15   \n",
              "\n",
              "                                                text  \n",
              "0  username loooooooovvvvvveee kindle dx cool fan...  \n",
              "1           reading kindle love lee childs good read  \n",
              "2           ok first assesment kindle fucking rocks   \n",
              "3  username love kindle i ve mine months never lo...  "
            ]
          },
          "metadata": {
            "tags": []
          },
          "execution_count": 13
        }
      ]
    },
    {
      "metadata": {
        "id": "qj7d4iBUzk4A",
        "colab_type": "code",
        "colab": {}
      },
      "cell_type": "code",
      "source": [
        "# Поменяем метки классов на более естественные:\n",
        "\n",
        "# 0:negative, 4:positive\n",
        "translate_labels = {0:0, 4:1} # 0:0 -- просто для наглядности:)\n",
        "train.sentiment = [translate_labels[t] for t in train.sentiment]\n",
        "test.sentiment = [translate_labels[t] for t in test.sentiment]"
      ],
      "execution_count": 0,
      "outputs": []
    },
    {
      "metadata": {
        "id": "3fp9PMqfDtTz",
        "colab_type": "code",
        "colab": {}
      },
      "cell_type": "code",
      "source": [
        "train.to_csv(\"preprocessed_train.csv\", index=False)"
      ],
      "execution_count": 0,
      "outputs": []
    },
    {
      "metadata": {
        "id": "sduh6xui4Gtu",
        "colab_type": "text"
      },
      "cell_type": "markdown",
      "source": [
        "# Бейзлайн"
      ]
    },
    {
      "metadata": {
        "id": "uWf8JtSc4Gtv",
        "colab_type": "code",
        "colab": {}
      },
      "cell_type": "code",
      "source": [
        "from sklearn.feature_extraction.text import TfidfVectorizer \n",
        "transformer = TfidfVectorizer(min_df=40, max_features=6000)\n",
        "X_train = transformer.fit_transform(train.text)"
      ],
      "execution_count": 0,
      "outputs": []
    },
    {
      "metadata": {
        "id": "vrRwW76R4Gtz",
        "colab_type": "code",
        "colab": {}
      },
      "cell_type": "code",
      "source": [
        "X_test = transformer.transform(test.text)"
      ],
      "execution_count": 0,
      "outputs": []
    },
    {
      "metadata": {
        "id": "ohsaDHSs4Gt4",
        "colab_type": "code",
        "colab": {}
      },
      "cell_type": "code",
      "source": [
        "y_train = train.sentiment\n",
        "y_test = test.sentiment"
      ],
      "execution_count": 0,
      "outputs": []
    },
    {
      "metadata": {
        "id": "9hBHt1dk4Gt7",
        "colab_type": "code",
        "colab": {
          "base_uri": "https://localhost:8080/",
          "height": 86
        },
        "outputId": "8ba0aa20-dc54-40cd-b471-fdbfb4d31622"
      },
      "cell_type": "code",
      "source": [
        "from sklearn.linear_model import LogisticRegression\n",
        "\n",
        "lr = LogisticRegression()\n",
        "lr.fit(X_train, y_train)"
      ],
      "execution_count": 19,
      "outputs": [
        {
          "output_type": "execute_result",
          "data": {
            "text/plain": [
              "LogisticRegression(C=1.0, class_weight=None, dual=False, fit_intercept=True,\n",
              "          intercept_scaling=1, max_iter=100, multi_class='ovr', n_jobs=1,\n",
              "          penalty='l2', random_state=None, solver='liblinear', tol=0.0001,\n",
              "          verbose=0, warm_start=False)"
            ]
          },
          "metadata": {
            "tags": []
          },
          "execution_count": 19
        }
      ]
    },
    {
      "metadata": {
        "id": "8nbMFb5M4GuA",
        "colab_type": "code",
        "colab": {}
      },
      "cell_type": "code",
      "source": [
        "# check on test part\n",
        "from sklearn.metrics import f1_score, roc_auc_score \n",
        "test_pred = lr.predict_proba(X_test)"
      ],
      "execution_count": 0,
      "outputs": []
    },
    {
      "metadata": {
        "id": "WblSPmoL0V9Y",
        "colab_type": "code",
        "colab": {
          "base_uri": "https://localhost:8080/",
          "height": 104
        },
        "outputId": "3dc91f07-53d9-4168-9911-7f69b3351365"
      },
      "cell_type": "code",
      "source": [
        "test_pred[:5]"
      ],
      "execution_count": 21,
      "outputs": [
        {
          "output_type": "execute_result",
          "data": {
            "text/plain": [
              "array([[0.04662514, 0.95337486],\n",
              "       [0.05971427, 0.94028573],\n",
              "       [0.18586406, 0.81413594],\n",
              "       [0.72101223, 0.27898777],\n",
              "       [0.51532977, 0.48467023]])"
            ]
          },
          "metadata": {
            "tags": []
          },
          "execution_count": 21
        }
      ]
    },
    {
      "metadata": {
        "id": "O9__iSBB4GuN",
        "colab_type": "text"
      },
      "cell_type": "markdown",
      "source": [
        "**Для удобства возьмем в качестве метрики roc_auc**"
      ]
    },
    {
      "metadata": {
        "id": "_TeAzsLE4GuO",
        "colab_type": "code",
        "colab": {
          "base_uri": "https://localhost:8080/",
          "height": 34
        },
        "outputId": "6e7b4f68-cf6d-437a-c714-7d8307c2933b"
      },
      "cell_type": "code",
      "source": [
        "roc_auc_score(y_test, test_pred[:,1])"
      ],
      "execution_count": 22,
      "outputs": [
        {
          "output_type": "execute_result",
          "data": {
            "text/plain": [
              "0.8664400571180232"
            ]
          },
          "metadata": {
            "tags": []
          },
          "execution_count": 22
        }
      ]
    },
    {
      "metadata": {
        "id": "LLCk8VQP4GuT",
        "colab_type": "text"
      },
      "cell_type": "markdown",
      "source": [
        "Это и есть то самое значение, которое необходимо превзойти."
      ]
    },
    {
      "metadata": {
        "id": "b7amP9O54GuU",
        "colab_type": "text"
      },
      "cell_type": "markdown",
      "source": [
        "# Tensorflow вступает в игру"
      ]
    },
    {
      "metadata": {
        "id": "ndpHlAwQ4GuV",
        "colab_type": "code",
        "colab": {}
      },
      "cell_type": "code",
      "source": [
        "import tensorflow as tf\n",
        "from tensorflow.keras.preprocessing.text import Tokenizer"
      ],
      "execution_count": 0,
      "outputs": []
    },
    {
      "metadata": {
        "id": "7j8JKLD85LYH",
        "colab_type": "code",
        "colab": {
          "base_uri": "https://localhost:8080/",
          "height": 312
        },
        "outputId": "9bcd45ce-0518-4759-f2c3-63a119907b54"
      },
      "cell_type": "code",
      "source": [
        "from tensorflow.python.client import device_lib\n",
        "print(device_lib.list_local_devices())"
      ],
      "execution_count": 24,
      "outputs": [
        {
          "output_type": "stream",
          "text": [
            "[name: \"/device:CPU:0\"\n",
            "device_type: \"CPU\"\n",
            "memory_limit: 268435456\n",
            "locality {\n",
            "}\n",
            "incarnation: 1746924621536162959\n",
            ", name: \"/device:GPU:0\"\n",
            "device_type: \"GPU\"\n",
            "memory_limit: 11281553818\n",
            "locality {\n",
            "  bus_id: 1\n",
            "  links {\n",
            "  }\n",
            "}\n",
            "incarnation: 1674111091116318802\n",
            "physical_device_desc: \"device: 0, name: Tesla K80, pci bus id: 0000:00:04.0, compute capability: 3.7\"\n",
            "]\n"
          ],
          "name": "stdout"
        }
      ]
    },
    {
      "metadata": {
        "id": "JRn9kV_G4Gua",
        "colab_type": "text"
      },
      "cell_type": "markdown",
      "source": [
        "**Готовим датасет**"
      ]
    },
    {
      "metadata": {
        "id": "y3Hk7flO4Gua",
        "colab_type": "code",
        "colab": {}
      },
      "cell_type": "code",
      "source": [
        "tokenizer = Tokenizer(char_level=False)"
      ],
      "execution_count": 0,
      "outputs": []
    },
    {
      "metadata": {
        "id": "zxA-912p4Gue",
        "colab_type": "code",
        "colab": {}
      },
      "cell_type": "code",
      "source": [
        "tokenizer.fit_on_texts(train.text)\n",
        "vocab_size = len(tokenizer.word_index)"
      ],
      "execution_count": 0,
      "outputs": []
    },
    {
      "metadata": {
        "id": "G1EDpcTpJmC5",
        "colab_type": "code",
        "colab": {
          "base_uri": "https://localhost:8080/",
          "height": 34
        },
        "outputId": "6c74691d-ed0b-4a41-f949-8afb22e93b59"
      },
      "cell_type": "code",
      "source": [
        "vocab_size"
      ],
      "execution_count": 27,
      "outputs": [
        {
          "output_type": "execute_result",
          "data": {
            "text/plain": [
              "61896"
            ]
          },
          "metadata": {
            "tags": []
          },
          "execution_count": 27
        }
      ]
    },
    {
      "metadata": {
        "id": "UMqNgZm94Gug",
        "colab_type": "code",
        "colab": {}
      },
      "cell_type": "code",
      "source": [
        "train_seqs = tokenizer.texts_to_sequences(train.text)"
      ],
      "execution_count": 0,
      "outputs": []
    },
    {
      "metadata": {
        "id": "d_V8NgTU4Gui",
        "colab_type": "code",
        "colab": {
          "base_uri": "https://localhost:8080/",
          "height": 281
        },
        "outputId": "c6800b50-79c3-4c7f-874a-c54209d1812f"
      },
      "cell_type": "code",
      "source": [
        "plt.hist([len(x) for x in train_seqs])\n",
        "plt.title(\"Распределение длин последовательностей\")\n",
        "plt.show()"
      ],
      "execution_count": 29,
      "outputs": [
        {
          "output_type": "display_data",
          "data": {
            "image/png": "[encoded data removed]",
            "text/plain": [
              "<matplotlib.figure.Figure at 0x7f750c3bf630>"
            ]
          },
          "metadata": {
            "tags": []
          }
        }
      ]
    },
    {
      "metadata": {
        "id": "lAmhEmtP4Gum",
        "colab_type": "code",
        "colab": {}
      },
      "cell_type": "code",
      "source": [
        "from tensorflow.keras.preprocessing.sequence import pad_sequences"
      ],
      "execution_count": 0,
      "outputs": []
    },
    {
      "metadata": {
        "id": "DD9LIm5d4Guo",
        "colab_type": "code",
        "colab": {}
      },
      "cell_type": "code",
      "source": [
        "# обрезаем последовательности в начале, добиваем нулями до 20 при необходимости в конце\n",
        "# тут можно все поменять на свой вкус, конечно же\n",
        "padded = pad_sequences(train_seqs, maxlen=20, dtype='int32', padding='post', truncating='pre', value=0.0)"
      ],
      "execution_count": 0,
      "outputs": []
    },
    {
      "metadata": {
        "id": "5T2LBcsy4Guq",
        "colab_type": "code",
        "colab": {
          "base_uri": "https://localhost:8080/",
          "height": 34
        },
        "outputId": "0e644820-b09f-44f6-8649-d185f51b15ad"
      },
      "cell_type": "code",
      "source": [
        "padded.shape"
      ],
      "execution_count": 32,
      "outputs": [
        {
          "output_type": "execute_result",
          "data": {
            "text/plain": [
              "(100000, 20)"
            ]
          },
          "metadata": {
            "tags": []
          },
          "execution_count": 32
        }
      ]
    },
    {
      "metadata": {
        "id": "QRMZvpFIQ4aC",
        "colab_type": "text"
      },
      "cell_type": "markdown",
      "source": [
        "#### Загружаем эмбеддинги"
      ]
    },
    {
      "metadata": {
        "id": "7tfb6UozQ9vg",
        "colab_type": "code",
        "colab": {}
      },
      "cell_type": "code",
      "source": [
        "#Load GLOVE vectors\n",
        "filepath_glove = 'glove.twitter.27B.100d.txt'\n",
        "glove_vocab = []\n",
        "glove_embd=[]\n",
        "embedding_dict = {}\n",
        " \n",
        "file = open(filepath_glove,'r',encoding='UTF-8')\n",
        "for line in file.readlines():\n",
        "    row = line.strip().split(' ')\n",
        "    vocab_word = row[0]\n",
        "    glove_vocab.append(vocab_word)\n",
        "    embed_vector = [float(i) for i in row[1:]] # convert to list of float\n",
        "    embedding_dict[vocab_word]=embed_vector\n",
        "file.close()"
      ],
      "execution_count": 0,
      "outputs": []
    },
    {
      "metadata": {
        "id": "6W0BOjk7SozR",
        "colab_type": "code",
        "colab": {
          "base_uri": "https://localhost:8080/",
          "height": 34
        },
        "outputId": "b7836206-1c31-4374-b58e-9e3a0bc8bfa8"
      },
      "cell_type": "code",
      "source": [
        "len(embedding_dict)"
      ],
      "execution_count": 34,
      "outputs": [
        {
          "output_type": "execute_result",
          "data": {
            "text/plain": [
              "1193515"
            ]
          },
          "metadata": {
            "tags": []
          },
          "execution_count": 34
        }
      ]
    },
    {
      "metadata": {
        "id": "XIHKH7EZTGot",
        "colab_type": "code",
        "colab": {
          "base_uri": "https://localhost:8080/",
          "height": 34
        },
        "outputId": "64b8980a-ec4d-4f91-f1d1-a52c753805a0"
      },
      "cell_type": "code",
      "source": [
        "len(tokenizer.word_index)"
      ],
      "execution_count": 35,
      "outputs": [
        {
          "output_type": "execute_result",
          "data": {
            "text/plain": [
              "61896"
            ]
          },
          "metadata": {
            "tags": []
          },
          "execution_count": 35
        }
      ]
    },
    {
      "metadata": {
        "id": "wY45yY4e1By8",
        "colab_type": "text"
      },
      "cell_type": "markdown",
      "source": [
        "Подготовим матрицу для инициализации матрицы эмбеддингов модели."
      ]
    },
    {
      "metadata": {
        "id": "V_a92CfnRE8R",
        "colab_type": "code",
        "colab": {}
      },
      "cell_type": "code",
      "source": [
        "# prepare embedding matrix\n",
        "num_words = vocab_size+1\n",
        "embedding_matrix = np.zeros((num_words, 100))\n",
        "for word, i in tokenizer.word_index.items():\n",
        "    embedding_vector = embedding_dict.get(word)\n",
        "    if embedding_vector is not None:\n",
        "        # words not found in embedding index will be all-zeros.\n",
        "        embedding_matrix[i] = embedding_vector\n"
      ],
      "execution_count": 0,
      "outputs": []
    },
    {
      "metadata": {
        "id": "VVF7fQzCR_oX",
        "colab_type": "code",
        "colab": {
          "base_uri": "https://localhost:8080/",
          "height": 34
        },
        "outputId": "e0e1e7ef-0c32-4542-e4ac-576a8b9bb828"
      },
      "cell_type": "code",
      "source": [
        "embedding_matrix.shape"
      ],
      "execution_count": 37,
      "outputs": [
        {
          "output_type": "execute_result",
          "data": {
            "text/plain": [
              "(61897, 100)"
            ]
          },
          "metadata": {
            "tags": []
          },
          "execution_count": 37
        }
      ]
    },
    {
      "metadata": {
        "id": "tKnSGyHDSPA5",
        "colab_type": "code",
        "colab": {
          "base_uri": "https://localhost:8080/",
          "height": 364
        },
        "outputId": "4d65f8a6-5b52-467a-900c-f43db11b3b1a"
      },
      "cell_type": "code",
      "source": [
        "embedding_matrix[3]"
      ],
      "execution_count": 38,
      "outputs": [
        {
          "output_type": "execute_result",
          "data": {
            "text/plain": [
              "array([ 8.5651e-02, -1.4665e-02, -2.0531e-01, -1.3928e-01, -4.5531e-01,\n",
              "        6.6880e-01, -1.5448e-01,  3.2308e-01, -5.1561e-01,  9.6171e-02,\n",
              "       -3.6832e-02,  2.7032e-01, -2.8622e+00,  4.1572e-01, -2.2041e-01,\n",
              "       -8.2353e-01, -7.0891e-01, -3.1757e-01, -7.4595e-01,  1.1605e+00,\n",
              "       -2.9937e-04, -1.3276e-02,  5.3844e-01,  3.2003e-01,  3.9048e-01,\n",
              "       -2.2494e+00, -6.9214e-01, -3.2294e-01,  6.8427e-01,  5.9943e-01,\n",
              "       -9.1371e-02, -5.6070e-01, -3.1685e-01, -1.1708e-01,  1.7076e+00,\n",
              "       -6.3555e-01, -4.3287e-01, -2.2535e-01,  3.5899e-01,  2.3817e-01,\n",
              "       -1.8517e+00,  3.0939e-01,  4.7932e-01, -8.7741e-01, -1.8584e-01,\n",
              "       -5.0600e-01,  2.8379e-02, -7.2791e-01,  8.4749e-02, -7.0856e-01,\n",
              "        3.5898e-01, -2.6869e-01,  1.2857e-01,  3.7286e-01,  3.6686e-01,\n",
              "       -2.9323e-01,  3.7081e-01, -6.0298e-01,  2.4040e-01, -5.0550e-01,\n",
              "       -2.8867e-01, -4.5598e-01,  7.7508e-02,  1.0154e-01,  2.9443e-01,\n",
              "        4.2504e-01, -2.3515e-01,  4.4486e-01, -1.5291e-01, -1.0447e-01,\n",
              "        2.9614e-01, -6.3704e-01,  3.1613e-01,  2.7299e-01, -6.2677e-01,\n",
              "        5.8366e-01, -7.3846e-01,  1.0140e+00, -7.8185e-02, -5.2589e-01,\n",
              "        1.4557e+00,  3.6629e-01,  3.7527e-01,  3.3924e-02, -1.3459e-01,\n",
              "        7.2309e-01, -7.9871e-01,  1.2158e-01,  2.5512e-01,  5.7559e-01,\n",
              "        5.3372e-01, -3.7430e-01, -2.1475e-01,  1.2555e-01,  7.2887e-01,\n",
              "       -5.7377e-01, -8.9212e-01, -3.1556e-01,  4.4199e-01, -4.0687e-01])"
            ]
          },
          "metadata": {
            "tags": []
          },
          "execution_count": 38
        }
      ]
    },
    {
      "metadata": {
        "id": "Bm6o4yBo4Gux",
        "colab_type": "text"
      },
      "cell_type": "markdown",
      "source": [
        "**Теперь Tensorflow точно вступает в игру**\n",
        "\n",
        "Изготовим теперь удобный **tf.data.Dataset**\n",
        "\n",
        "Более подробно можно прочитать об этом [здесь](https://towardsdatascience.com/how-to-use-dataset-in-tensorflow-c758ef9e4428) и [здесь](https://www.tensorflow.org/performance/datasets_performance)"
      ]
    },
    {
      "metadata": {
        "id": "xhx2FtZTDYw7",
        "colab_type": "code",
        "colab": {}
      },
      "cell_type": "code",
      "source": [
        "tf.reset_default_graph()"
      ],
      "execution_count": 0,
      "outputs": []
    },
    {
      "metadata": {
        "id": "tH7wlrWRByp8",
        "colab_type": "code",
        "colab": {}
      },
      "cell_type": "code",
      "source": [
        "emb_size = 100\n",
        "BATCH_SIZE = 200\n",
        "learning_rate = 0.001\n",
        "EPOCHS = 1"
      ],
      "execution_count": 0,
      "outputs": []
    },
    {
      "metadata": {
        "id": "agmderJ4IbOM",
        "colab_type": "code",
        "colab": {}
      },
      "cell_type": "code",
      "source": [
        "y_train = np.array(train.sentiment)\n",
        "y_train = np.expand_dims(y_train, axis=1)"
      ],
      "execution_count": 0,
      "outputs": []
    },
    {
      "metadata": {
        "id": "PgwcdOcxNqus",
        "colab_type": "code",
        "colab": {
          "base_uri": "https://localhost:8080/",
          "height": 139
        },
        "outputId": "954036b0-1eff-4858-b529-0dc366c58669"
      },
      "cell_type": "code",
      "source": [
        "y_train"
      ],
      "execution_count": 42,
      "outputs": [
        {
          "output_type": "execute_result",
          "data": {
            "text/plain": [
              "array([[0],\n",
              "       [0],\n",
              "       [0],\n",
              "       ...,\n",
              "       [0],\n",
              "       [1],\n",
              "       [1]])"
            ]
          },
          "metadata": {
            "tags": []
          },
          "execution_count": 42
        }
      ]
    },
    {
      "metadata": {
        "id": "eIvZj2y14Gux",
        "colab_type": "code",
        "colab": {}
      },
      "cell_type": "code",
      "source": [
        "dataset = tf.data.Dataset.from_tensor_slices((padded, y_train)).shuffle(BATCH_SIZE).repeat().batch(BATCH_SIZE)"
      ],
      "execution_count": 0,
      "outputs": []
    },
    {
      "metadata": {
        "id": "MP1BpiohAZfV",
        "colab_type": "text"
      },
      "cell_type": "markdown",
      "source": [
        "С помощью dataset API можно удобно делать итератор для имеющихся данных."
      ]
    },
    {
      "metadata": {
        "id": "xcPxVUjV4Guz",
        "colab_type": "code",
        "colab": {
          "base_uri": "https://localhost:8080/",
          "height": 34
        },
        "outputId": "24f6a147-8908-440f-de1a-a4a726b1880c"
      },
      "cell_type": "code",
      "source": [
        "iterator = dataset.make_one_shot_iterator()\n",
        "get_next = iterator.get_next()\n",
        "print(get_next)\n",
        "inputs, labels = get_next"
      ],
      "execution_count": 44,
      "outputs": [
        {
          "output_type": "stream",
          "text": [
            "(<tf.Tensor 'IteratorGetNext:0' shape=(?, 20) dtype=int32>, <tf.Tensor 'IteratorGetNext:1' shape=(?, 1) dtype=int64>)\n"
          ],
          "name": "stdout"
        }
      ]
    },
    {
      "metadata": {
        "id": "JgKjyHJJ7sdd",
        "colab_type": "text"
      },
      "cell_type": "markdown",
      "source": [
        "**Модель**\n",
        "\n",
        "Мы хотим сделать очень простую модель с однослойной LSTM ячейкой, которая будет пробегать по всей последовательности из слов длины 20. На каждом элементе последовательности LSTM выдает output. Мы хотим использовать output'ы для предсказания вероятности принадлежности последовательности к классу позитивных твиттов."
      ]
    },
    {
      "metadata": {
        "id": "T5Zzq2J51le2",
        "colab_type": "text"
      },
      "cell_type": "markdown",
      "source": [
        "Матрицу эмбеддингов фиксируем, она не будет тренироваться в процессе обучения модели. "
      ]
    },
    {
      "metadata": {
        "id": "Nl9jIipdJmDd",
        "colab_type": "code",
        "colab": {}
      },
      "cell_type": "code",
      "source": [
        "embedding_mtx = tf.get_variable(name=\"embedding_mtx\",\n",
        "                                shape=embedding_matrix.shape,\n",
        "                                initializer=tf.constant_initializer(embedding_matrix),\n",
        "                                trainable=False)"
      ],
      "execution_count": 0,
      "outputs": []
    },
    {
      "metadata": {
        "id": "uXvsePQj1wAB",
        "colab_type": "text"
      },
      "cell_type": "markdown",
      "source": [
        "Эта функция позволяет по индексам элементов входной последовательности (`inputs`) составить матрицу из соответствующих векторов слов из матрицы эмбеддингов (`embedding_mtx`)."
      ]
    },
    {
      "metadata": {
        "id": "V0dp0CquB8_G",
        "colab_type": "code",
        "colab": {}
      },
      "cell_type": "code",
      "source": [
        "inputs_embedded = tf.nn.embedding_lookup(params=embedding_mtx, ids=inputs)"
      ],
      "execution_count": 0,
      "outputs": []
    },
    {
      "metadata": {
        "id": "J34nraUu2KrW",
        "colab_type": "text"
      },
      "cell_type": "markdown",
      "source": [
        "Посмотрим на размерность полученной матрицы: [размер батча, длина последовательности, размерность эмбеддинга]"
      ]
    },
    {
      "metadata": {
        "id": "mEIl4y4RCkhi",
        "colab_type": "code",
        "colab": {
          "base_uri": "https://localhost:8080/",
          "height": 34
        },
        "outputId": "1c4c992f-897e-47c7-82a5-7e03b7eaceff"
      },
      "cell_type": "code",
      "source": [
        "inputs_embedded"
      ],
      "execution_count": 48,
      "outputs": [
        {
          "output_type": "execute_result",
          "data": {
            "text/plain": [
              "<tf.Tensor 'embedding_lookup/Identity:0' shape=(?, 20, 100) dtype=float32>"
            ]
          },
          "metadata": {
            "tags": []
          },
          "execution_count": 48
        }
      ]
    },
    {
      "metadata": {
        "id": "GsY4TYaG4R9G",
        "colab_type": "text"
      },
      "cell_type": "markdown",
      "source": [
        "Однослойная LSTM сеть с размерностью выхода 100:"
      ]
    },
    {
      "metadata": {
        "id": "iPahVzMT4Gu1",
        "colab_type": "code",
        "colab": {}
      },
      "cell_type": "code",
      "source": [
        "outputs, states = tf.nn.dynamic_rnn(cell=tf.nn.rnn_cell.LSTMCell(100), inputs=inputs_embedded, dtype=tf.float32)"
      ],
      "execution_count": 0,
      "outputs": []
    },
    {
      "metadata": {
        "id": "ITShbq-Y5xhE",
        "colab_type": "text"
      },
      "cell_type": "markdown",
      "source": [
        "outputs -- это выходы LSTM после каждого элемента последовательности."
      ]
    },
    {
      "metadata": {
        "id": "wO7SP7065vmK",
        "colab_type": "code",
        "colab": {}
      },
      "cell_type": "code",
      "source": [
        "outputs = tf.layers.flatten(outputs)"
      ],
      "execution_count": 0,
      "outputs": []
    },
    {
      "metadata": {
        "id": "o0auPGwzFKcF",
        "colab_type": "code",
        "colab": {}
      },
      "cell_type": "code",
      "source": [
        "logits = tf.layers.dense(inputs=outputs, units=1)"
      ],
      "execution_count": 0,
      "outputs": []
    },
    {
      "metadata": {
        "id": "n9w2mcHYAIIF",
        "colab_type": "code",
        "colab": {
          "base_uri": "https://localhost:8080/",
          "height": 34
        },
        "outputId": "2aff77c6-8bc6-408f-ac94-af1aac566134"
      },
      "cell_type": "code",
      "source": [
        "logits"
      ],
      "execution_count": 52,
      "outputs": [
        {
          "output_type": "execute_result",
          "data": {
            "text/plain": [
              "<tf.Tensor 'dense/BiasAdd:0' shape=(?, 1) dtype=float32>"
            ]
          },
          "metadata": {
            "tags": []
          },
          "execution_count": 52
        }
      ]
    },
    {
      "metadata": {
        "id": "bC6EwGXpJmDr",
        "colab_type": "code",
        "colab": {
          "base_uri": "https://localhost:8080/",
          "height": 34
        },
        "outputId": "bee726de-5e21-4013-822d-56f8433789e6"
      },
      "cell_type": "code",
      "source": [
        "probs = tf.nn.sigmoid(logits)\n",
        "probs"
      ],
      "execution_count": 53,
      "outputs": [
        {
          "output_type": "execute_result",
          "data": {
            "text/plain": [
              "<tf.Tensor 'Sigmoid:0' shape=(?, 1) dtype=float32>"
            ]
          },
          "metadata": {
            "tags": []
          },
          "execution_count": 53
        }
      ]
    },
    {
      "metadata": {
        "id": "WrNxRc6hFKaC",
        "colab_type": "code",
        "colab": {}
      },
      "cell_type": "code",
      "source": [
        "loss = tf.nn.sigmoid_cross_entropy_with_logits(\n",
        "    labels=tf.cast(labels, dtype=tf.float32),\n",
        "    logits=logits,\n",
        "    name='loss'\n",
        ")\n",
        "loss = tf.reduce_mean(loss)"
      ],
      "execution_count": 0,
      "outputs": []
    },
    {
      "metadata": {
        "id": "_iECRp-g4Gu4",
        "colab_type": "code",
        "colab": {
          "base_uri": "https://localhost:8080/",
          "height": 34
        },
        "outputId": "91ce7d56-7ec7-4bf5-b092-e2e129350cfa"
      },
      "cell_type": "code",
      "source": [
        "loss"
      ],
      "execution_count": 55,
      "outputs": [
        {
          "output_type": "execute_result",
          "data": {
            "text/plain": [
              "<tf.Tensor 'Mean:0' shape=() dtype=float32>"
            ]
          },
          "metadata": {
            "tags": []
          },
          "execution_count": 55
        }
      ]
    },
    {
      "metadata": {
        "id": "oT1X96sQ4Gu5",
        "colab_type": "code",
        "colab": {}
      },
      "cell_type": "code",
      "source": [
        "train_op = tf.train.AdamOptimizer(learning_rate).minimize(loss)"
      ],
      "execution_count": 0,
      "outputs": []
    },
    {
      "metadata": {
        "id": "H4woY2c8E8ZI",
        "colab_type": "code",
        "colab": {}
      },
      "cell_type": "code",
      "source": [
        "#sess.close()"
      ],
      "execution_count": 0,
      "outputs": []
    },
    {
      "metadata": {
        "id": "qovQgvIYJEiX",
        "colab_type": "code",
        "colab": {
          "base_uri": "https://localhost:8080/",
          "height": 243
        },
        "outputId": "90239aad-a5d9-4585-dfc0-fd00af39fef5"
      },
      "cell_type": "code",
      "source": [
        "%%time\n",
        "losses = []\n",
        "num_epochs = 1\n",
        "num_iter_per_epoch = 3000\n",
        "#config = tf.ConfigProto()\n",
        "#config.gpu_options.allow_growth = True\n",
        "\n",
        "with tf.device('/gpu:0'):\n",
        "  sess = tf.Session() #config=tf.ConfigProto(log_device_placement=True))\n",
        "  sess.run(tf.global_variables_initializer())\n",
        "  for i in range(num_epochs):\n",
        "    print('Epoch ',i)\n",
        "    aver_loss = 0.\n",
        "    for j in range(num_iter_per_epoch):\n",
        "      loss_cur, _ = sess.run([loss, train_op])\n",
        "      aver_loss += loss_cur\n",
        "      if j % 300 == 0:\n",
        "        print('Loss: ', aver_loss / 300.)\n",
        "        aver_loss = 0.\n",
        "\n",
        "      losses.append(loss_cur)"
      ],
      "execution_count": 58,
      "outputs": [
        {
          "output_type": "stream",
          "text": [
            "Epoch  0\n",
            "Loss:  0.0023477973540623983\n",
            "Loss:  0.5340553519129753\n",
            "Loss:  0.5027625281612078\n",
            "Loss:  0.4875915732979774\n",
            "Loss:  0.47838222722212476\n",
            "Loss:  0.47487663527329765\n",
            "Loss:  0.4623328592379888\n",
            "Loss:  0.45770066370566687\n",
            "Loss:  0.449767203827699\n",
            "Loss:  0.44355457633733747\n",
            "CPU times: user 1min 47s, sys: 14 s, total: 2min 1s\n",
            "Wall time: 1min 20s\n"
          ],
          "name": "stdout"
        }
      ]
    },
    {
      "metadata": {
        "id": "asaAQ2ITJU5m",
        "colab_type": "code",
        "colab": {
          "base_uri": "https://localhost:8080/",
          "height": 282
        },
        "outputId": "a163918a-2e01-40f0-e334-3a1849096268"
      },
      "cell_type": "code",
      "source": [
        "plt.plot(losses)"
      ],
      "execution_count": 59,
      "outputs": [
        {
          "output_type": "execute_result",
          "data": {
            "text/plain": [
              "[<matplotlib.lines.Line2D at 0x7f743a07e2b0>]"
            ]
          },
          "metadata": {
            "tags": []
          },
          "execution_count": 59
        },
        {
          "output_type": "display_data",
          "data": {
            "image/png": "[encoded data removed]",
            "text/plain": [
              "<matplotlib.figure.Figure at 0x7f743d136b38>"
            ]
          },
          "metadata": {
            "tags": []
          }
        }
      ]
    },
    {
      "metadata": {
        "id": "71dyoLY-7ezf",
        "colab_type": "text"
      },
      "cell_type": "markdown",
      "source": [
        "**Измеряем точность**"
      ]
    },
    {
      "metadata": {
        "id": "ToINNWQtJmD4",
        "colab_type": "code",
        "colab": {}
      },
      "cell_type": "code",
      "source": [
        "test_seqs = tokenizer.texts_to_sequences(test.text)\n",
        "padded_test = pad_sequences(test_seqs, maxlen=20, dtype='int32', padding='post', truncating='pre', value=0.0)"
      ],
      "execution_count": 0,
      "outputs": []
    },
    {
      "metadata": {
        "id": "GDnqhSws8ro3",
        "colab_type": "code",
        "colab": {}
      },
      "cell_type": "code",
      "source": [
        "test_pred = sess.run(probs, feed_dict={inputs: padded_test})"
      ],
      "execution_count": 0,
      "outputs": []
    },
    {
      "metadata": {
        "id": "rCtV-Pe0JmD8",
        "colab_type": "code",
        "colab": {
          "base_uri": "https://localhost:8080/",
          "height": 34
        },
        "outputId": "0af58e9d-f3be-4182-c451-92d107a6e999"
      },
      "cell_type": "code",
      "source": [
        "roc_auc_score(y_test, test_pred)"
      ],
      "execution_count": 62,
      "outputs": [
        {
          "output_type": "execute_result",
          "data": {
            "text/plain": [
              "0.8839634941329857"
            ]
          },
          "metadata": {
            "tags": []
          },
          "execution_count": 62
        }
      ]
    },
    {
      "metadata": {
        "id": "TWiv3S0Oc9Tb",
        "colab_type": "text"
      },
      "cell_type": "markdown",
      "source": [
        "** Мы улучшили результат TF-IDF модели, но кажется, что можно куда лучше**"
      ]
    },
    {
      "metadata": {
        "id": "aUzok0OydIOz",
        "colab_type": "text"
      },
      "cell_type": "markdown",
      "source": [
        "# Задание"
      ]
    },
    {
      "metadata": {
        "id": "cOquml5SQLsN",
        "colab_type": "text"
      },
      "cell_type": "markdown",
      "source": [
        "\n",
        "Исследуйте нейронку и опишите свои наблюдения. Зафиксируйте количество итераций обучения и меняйте параметры сети. \n",
        "Можно выбрать для исследования **любые 3 ** из предложенных вопросов.\n",
        "\n",
        "1.   Как размер батча влияет на roc_auc?\n",
        "2.   Как размерность скрытого слоя LSTM влияет на roc_auc?\n",
        "3.   Что изменится, если вместо всех outputs LSTM взять только последние выходы LSTM на последнем шаге. Улучшился или ухудшился при этом roc_auc?\n",
        "4.   Что изменится, если взять char эмбеддинги заместо word? Провести эксперименты, добится roc_auc > 0.5. (Это может оказаться сложным, потому можно взять одну эту задачку вместо 3х)\n",
        "5.   Что изменится, если взять несколько слоев LSTM?\n",
        "6.   Что изменится, если взять bidirectional LSTM?\n",
        "7.   Что если обучать эмбеддинги вместе с обучением модели и не использовать инициализацию предобученными эмбеддингами? Сколько потребуется итераций обучения, чтобы достичь результата с использованием предобученных эмбеддингов?\n",
        "\n",
        "Опишите подробно что вы делали словами и что у вас вышло.\n",
        "Код тоже нужно оставить доступным для обозрения.\n",
        "\n",
        "Получилось ли у вас улучшить результат нейронки?\n",
        "\n",
        "# Ваш отчет здесь\n"
      ]
    },
    {
      "metadata": {
        "id": "_KV_Xn0ZTGS-",
        "colab_type": "code",
        "colab": {}
      },
      "cell_type": "code",
      "source": [
        "#первый вопрос\n",
        "tf.reset_default_graph()\n",
        "BATCH_SIZES = []\n",
        "scores = []\n",
        "\n",
        "for BATCH_SIZE in list(range(100, 200, 10)) + list(range(200, 1000, 100)) + list(range(1000, 4000, 500)):\n",
        "  \n",
        "  tf.reset_default_graph()\n",
        "  \n",
        "  dataset = tf.data.Dataset.from_tensor_slices((padded, y_train)).shuffle(BATCH_SIZE).repeat().batch(BATCH_SIZE)\n",
        "\n",
        "  iterator = dataset.make_one_shot_iterator()\n",
        "  get_next = iterator.get_next()\n",
        "  #print(get_next)\n",
        "  inputs, labels = get_next\n",
        "  \n",
        "  embedding_mtx = tf.get_variable(name=\"embedding_mtx\",\n",
        "                                shape=embedding_matrix.shape,\n",
        "                                initializer=tf.constant_initializer(embedding_matrix),\n",
        "                                trainable=False)\n",
        "\n",
        "  inputs_embedded = tf.nn.embedding_lookup(params=embedding_mtx, ids=inputs)\n",
        "\n",
        "  outputs, states = tf.nn.dynamic_rnn(cell=tf.nn.rnn_cell.LSTMCell(100), inputs=inputs_embedded, dtype=tf.float32)\n",
        "\n",
        "  outputs = tf.layers.flatten(outputs)\n",
        "\n",
        "  logits = tf.layers.dense(inputs=outputs, units=1)\n",
        "\n",
        "  probs = tf.nn.sigmoid(logits)\n",
        "\n",
        "  loss = tf.nn.sigmoid_cross_entropy_with_logits(\n",
        "      labels=tf.cast(labels, dtype=tf.float32),\n",
        "      logits=logits,\n",
        "      name='loss'\n",
        "  )\n",
        "  loss = tf.reduce_mean(loss)\n",
        "\n",
        "  train_op = tf.train.AdamOptimizer(learning_rate).minimize(loss)\n",
        "\n",
        "  losses = []\n",
        "  num_epochs = 1\n",
        "  num_iter_per_epoch = 3000\n",
        "  #config = tf.ConfigProto()\n",
        "  #config.gpu_options.allow_growth = True\n",
        "\n",
        "  with tf.device('/gpu:0'):\n",
        "    sess = tf.Session() #config=tf.ConfigProto(log_device_placement=True))\n",
        "    sess.run(tf.global_variables_initializer())\n",
        "    for i in range(num_epochs):\n",
        "      #print('Epoch ',i)\n",
        "      aver_loss = 0.\n",
        "      for j in range(num_iter_per_epoch):\n",
        "        loss_cur, _ = sess.run([loss, train_op])\n",
        "        aver_loss += loss_cur\n",
        "        if j % 300 == 0:\n",
        "          #print('Loss: ', aver_loss / 300.)\n",
        "          aver_loss = 0.\n",
        "\n",
        "        losses.append(loss_cur)\n",
        "\n",
        "  test_seqs = tokenizer.texts_to_sequences(test.text)\n",
        "  padded_test = pad_sequences(test_seqs, maxlen=20, dtype='int32', padding='post', truncating='pre', value=0.0)\n",
        "\n",
        "  test_pred = sess.run(probs, feed_dict={inputs: padded_test})\n",
        "\n",
        "  BATCH_SIZES.append(BATCH_SIZE)\n",
        "  scores.append(roc_auc_score(y_test, test_pred))\n",
        "  #print(\"ok \")"
      ],
      "execution_count": 0,
      "outputs": []
    },
    {
      "metadata": {
        "id": "RTYvHhmRc_1U",
        "colab_type": "code",
        "colab": {
          "base_uri": "https://localhost:8080/",
          "height": 34
        },
        "outputId": "d1ea045a-d4ae-42a8-fb2e-ba10c155ce72"
      },
      "cell_type": "code",
      "source": [
        "tf.test.gpu_device_name()"
      ],
      "execution_count": 81,
      "outputs": [
        {
          "output_type": "execute_result",
          "data": {
            "text/plain": [
              "'/device:GPU:0'"
            ]
          },
          "metadata": {
            "tags": []
          },
          "execution_count": 81
        }
      ]
    },
    {
      "metadata": {
        "id": "1-CoB_n7oSL5",
        "colab_type": "code",
        "colab": {
          "base_uri": "https://localhost:8080/",
          "height": 278
        },
        "outputId": "a752ecaf-4f0d-4dc6-b2f3-a0992a221ff4"
      },
      "cell_type": "code",
      "source": [
        "from tensorflow.python.client import device_lib\n",
        "device_lib.list_local_devices()"
      ],
      "execution_count": 82,
      "outputs": [
        {
          "output_type": "execute_result",
          "data": {
            "text/plain": [
              "[name: \"/device:CPU:0\"\n",
              " device_type: \"CPU\"\n",
              " memory_limit: 268435456\n",
              " locality {\n",
              " }\n",
              " incarnation: 17474369612633969952, name: \"/device:GPU:0\"\n",
              " device_type: \"GPU\"\n",
              " memory_limit: 11281989632\n",
              " locality {\n",
              "   bus_id: 1\n",
              "   links {\n",
              "   }\n",
              " }\n",
              " incarnation: 8420583887495938406\n",
              " physical_device_desc: \"device: 0, name: Tesla K80, pci bus id: 0000:00:04.0, compute capability: 3.7\"]"
            ]
          },
          "metadata": {
            "tags": []
          },
          "execution_count": 82
        }
      ]
    },
    {
      "metadata": {
        "id": "U8QlwtsHoXjJ",
        "colab_type": "code",
        "colab": {
          "base_uri": "https://localhost:8080/",
          "height": 280
        },
        "outputId": "a7f9412b-aede-4841-94da-6a47c4d423b8"
      },
      "cell_type": "code",
      "source": [
        "#import matplotlib as plt\n",
        "figure()\n",
        "plot(BATCH_SIZES, scores, 'r')\n",
        "xlabel('Размер батча')\n",
        "ylabel('Скор')\n",
        "show()"
      ],
      "execution_count": 83,
      "outputs": [
        {
          "output_type": "display_data",
          "data": {
            "image/png": "[encoded data removed]",
            "text/plain": [
              "<matplotlib.figure.Figure at 0x7f955dd276a0>"
            ]
          },
          "metadata": {
            "tags": []
          }
        }
      ]
    },
    {
      "metadata": {
        "id": "BKEBXFFjsxDP",
        "colab_type": "code",
        "colab": {}
      },
      "cell_type": "code",
      "source": [
        "#второй вопрос\n",
        "hidden_nums = []\n",
        "scores_hidden = []\n",
        "tf.reset_default_graph()\n",
        "\n",
        "for num_hidden in list(range(10, 100, 20))+ list(range(100, 200, 30)) + list(range(200, 1000, 100)):\n",
        "  tf.reset_default_graph()\n",
        "  \n",
        "  dataset = tf.data.Dataset.from_tensor_slices((padded, y_train)).shuffle(200).repeat().batch(200)\n",
        "\n",
        "  iterator = dataset.make_one_shot_iterator()\n",
        "  get_next = iterator.get_next()\n",
        "  #print(get_next)\n",
        "  inputs, labels = get_next\n",
        "  \n",
        "  embedding_mtx = tf.get_variable(name=\"embedding_mtx\",\n",
        "                                shape=embedding_matrix.shape,\n",
        "                                initializer=tf.constant_initializer(embedding_matrix),\n",
        "                                trainable=False)\n",
        "\n",
        "  inputs_embedded = tf.nn.embedding_lookup(params=embedding_mtx, ids=inputs)\n",
        "  \n",
        "  outputs, states = tf.nn.dynamic_rnn(cell=tf.nn.rnn_cell.LSTMCell(num_hidden), inputs=inputs_embedded, dtype=tf.float32)\n",
        "  outputs = tf.layers.flatten(outputs)\n",
        "  logits = tf.layers.dense(inputs=outputs, units=1)\n",
        "  probs = tf.nn.sigmoid(logits)\n",
        "\n",
        "  loss = tf.nn.sigmoid_cross_entropy_with_logits(\n",
        "        labels=tf.cast(labels, dtype=tf.float32),\n",
        "        logits=logits,\n",
        "        name='loss'\n",
        "    )\n",
        "  loss = tf.reduce_mean(loss)\n",
        "\n",
        "  train_op = tf.train.AdamOptimizer(learning_rate).minimize(loss)\n",
        "\n",
        "  losses = []\n",
        "  num_epochs = 1\n",
        "  num_iter_per_epoch = 3000\n",
        "  #config = tf.ConfigProto()\n",
        "  #config.gpu_options.allow_growth = True\n",
        "\n",
        "  with tf.device('/gpu:0'):\n",
        "    sess = tf.Session() #config=tf.ConfigProto(log_device_placement=True))\n",
        "    sess.run(tf.global_variables_initializer())\n",
        "    for i in range(num_epochs):\n",
        "      #print('Epoch ',i)\n",
        "      aver_loss = 0.\n",
        "      for j in range(num_iter_per_epoch):\n",
        "        loss_cur, _ = sess.run([loss, train_op])\n",
        "        aver_loss += loss_cur\n",
        "        if j % 300 == 0:\n",
        "          #print('Loss: ', aver_loss / 300.)\n",
        "          aver_loss = 0.\n",
        "\n",
        "        losses.append(loss_cur)\n",
        "\n",
        "  test_seqs = tokenizer.texts_to_sequences(test.text)\n",
        "  padded_test = pad_sequences(test_seqs, maxlen=20, dtype='int32', padding='post', truncating='pre', value=0.0)\n",
        "\n",
        "  test_pred = sess.run(probs, feed_dict={inputs: padded_test})\n",
        "\n",
        "  hidden_nums.append(num_hidden)\n",
        "  scores_hidden.append(roc_auc_score(y_test, test_pred))\n",
        "  #print(\"ok \")"
      ],
      "execution_count": 0,
      "outputs": []
    },
    {
      "metadata": {
        "id": "5kbHdGmcznby",
        "colab_type": "code",
        "colab": {
          "base_uri": "https://localhost:8080/",
          "height": 279
        },
        "outputId": "f790c742-6f88-442f-9446-761621ea6233"
      },
      "cell_type": "code",
      "source": [
        "figure()\n",
        "plot(hidden_nums, scores_hidden, 'r')\n",
        "xlabel('Размер hidden state')\n",
        "ylabel('Скор')\n",
        "show()"
      ],
      "execution_count": 85,
      "outputs": [
        {
          "output_type": "display_data",
          "data": {
            "image/png": "[encoded data removed]",
            "text/plain": [
              "<matplotlib.figure.Figure at 0x7f93f8bcd240>"
            ]
          },
          "metadata": {
            "tags": []
          }
        }
      ]
    },
    {
      "metadata": {
        "id": "GuaeLETR3uT-",
        "colab_type": "code",
        "colab": {}
      },
      "cell_type": "code",
      "source": [
        "#пятый вопрос\n",
        "#эта хрень у меня за ночь не отработала\n",
        "tf.reset_default_graph()\n",
        "epoches = []\n",
        "scores_epoch = []\n",
        "\n",
        "for num_epochs in range(10):\n",
        "  \n",
        "  tf.reset_default_graph()\n",
        "  \n",
        "  dataset = tf.data.Dataset.from_tensor_slices((padded, y_train)).shuffle(200).repeat().batch(200)\n",
        "\n",
        "  iterator = dataset.make_one_shot_iterator()\n",
        "  get_next = iterator.get_next()\n",
        "  #print(get_next)\n",
        "  inputs, labels = get_next\n",
        "  \n",
        "  embedding_mtx = tf.get_variable(name=\"embedding_mtx\",\n",
        "                                shape=embedding_matrix.shape,\n",
        "                                initializer=tf.constant_initializer(embedding_matrix),\n",
        "                                trainable=False)\n",
        "\n",
        "  inputs_embedded = tf.nn.embedding_lookup(params=embedding_mtx, ids=inputs)\n",
        "\n",
        "  outputs, states = tf.nn.dynamic_rnn(cell=tf.nn.rnn_cell.LSTMCell(100), inputs=inputs_embedded, dtype=tf.float32)\n",
        "\n",
        "  outputs = tf.layers.flatten(outputs)\n",
        "\n",
        "  logits = tf.layers.dense(inputs=outputs, units=1)\n",
        "\n",
        "  probs = tf.nn.sigmoid(logits)\n",
        "\n",
        "  loss = tf.nn.sigmoid_cross_entropy_with_logits(\n",
        "      labels=tf.cast(labels, dtype=tf.float32),\n",
        "      logits=logits,\n",
        "      name='loss'\n",
        "  )\n",
        "  loss = tf.reduce_mean(loss)\n",
        "\n",
        "  train_op = tf.train.AdamOptimizer(learning_rate).minimize(loss)\n",
        "\n",
        "  losses = []\n",
        "  #num_epochs = 1\n",
        "  num_iter_per_epoch = 3000\n",
        "  #config = tf.ConfigProto()\n",
        "  #config.gpu_options.allow_growth = True\n",
        "\n",
        "  with tf.device('/gpu:0'):\n",
        "    sess = tf.Session() #config=tf.ConfigProto(log_device_placement=True))\n",
        "    sess.run(tf.global_variables_initializer())\n",
        "    for i in range(num_epochs):\n",
        "      #print('Epoch ',i)\n",
        "      aver_loss = 0.\n",
        "      for j in range(num_iter_per_epoch):\n",
        "        loss_cur, _ = sess.run([loss, train_op])\n",
        "        aver_loss += loss_cur\n",
        "        if j % 300 == 0:\n",
        "          #print('Loss: ', aver_loss / 300.)\n",
        "          aver_loss = 0.\n",
        "\n",
        "        losses.append(loss_cur)\n",
        "\n",
        "  test_seqs = tokenizer.texts_to_sequences(test.text)\n",
        "  padded_test = pad_sequences(test_seqs, maxlen=20, dtype='int32', padding='post', truncating='pre', value=0.0)\n",
        "\n",
        "  test_pred = sess.run(probs, feed_dict={inputs: padded_test})\n",
        "\n",
        "  epoches.append(num_epochs)\n",
        "  scores_epoch.append(roc_auc_score(y_test, test_pred))\n",
        "  #print(\"ok \")"
      ],
      "execution_count": 0,
      "outputs": []
    },
    {
      "metadata": {
        "id": "9lqr7ZsQ_SWF",
        "colab_type": "code",
        "colab": {}
      },
      "cell_type": "code",
      "source": [
        "figure()\n",
        "plot(epoches, scores_epoch, 'r')\n",
        "xlabel('Количество слоёв')\n",
        "ylabel('Скор')\n",
        "show()"
      ],
      "execution_count": 0,
      "outputs": []
    },
    {
      "metadata": {
        "id": "2_6UXUfW-lP-",
        "colab_type": "code",
        "colab": {
          "base_uri": "https://localhost:8080/",
          "height": 225
        },
        "outputId": "39692916-0d77-4a85-9992-dd676fa5de2a"
      },
      "cell_type": "code",
      "source": [
        "#шестой вопрос\n",
        "tf.reset_default_graph()\n",
        "\n",
        "dataset = tf.data.Dataset.from_tensor_slices((padded, y_train)).shuffle(200).repeat().batch(200)\n",
        "\n",
        "iterator = dataset.make_one_shot_iterator()\n",
        "get_next = iterator.get_next()\n",
        "#print(get_next)\n",
        "inputs, labels = get_next\n",
        "\n",
        "embedding_mtx = tf.get_variable(name=\"embedding_mtx\",\n",
        "                              shape=embedding_matrix.shape,\n",
        "                              initializer=tf.constant_initializer(embedding_matrix),\n",
        "                              trainable=False)\n",
        "\n",
        "inputs_embedded = tf.nn.embedding_lookup(params=embedding_mtx, ids=inputs)\n",
        "\n",
        "outputs, states = tf.nn.bidirectional_dynamic_rnn(cell_fw=tf.nn.rnn_cell.LSTMCell(100), cell_bw=tf.nn.rnn_cell.LSTMCell(100), inputs=inputs_embedded, dtype=tf.float32)\n",
        "\n",
        "output_fw, output_bw = outputs\n",
        "states_fw, states_bw = states\n",
        "outputs = tf.concat([output_fw, output_bw], 2)\n",
        "outputs = tf.layers.flatten(outputs)\n",
        "\n",
        "\n",
        "logits = tf.layers.dense(inputs=outputs, units=1)\n",
        "\n",
        "probs = tf.nn.sigmoid(logits)\n",
        "\n",
        "loss = tf.nn.sigmoid_cross_entropy_with_logits(\n",
        "    labels=tf.cast(labels, dtype=tf.float32),\n",
        "    logits=logits,\n",
        "    name='loss'\n",
        ")\n",
        "loss = tf.reduce_mean(loss)\n",
        "\n",
        "train_op = tf.train.AdamOptimizer(learning_rate).minimize(loss)\n",
        "\n",
        "losses = []\n",
        "num_epochs = 1\n",
        "num_iter_per_epoch = 3000\n",
        "#config = tf.ConfigProto()\n",
        "#config.gpu_options.allow_growth = True\n",
        "\n",
        "with tf.device('/gpu:0'):\n",
        "  sess = tf.Session() #config=tf.ConfigProto(log_device_placement=True))\n",
        "  sess.run(tf.global_variables_initializer())\n",
        "  for i in range(num_epochs):\n",
        "    print('Epoch ',i)\n",
        "    aver_loss = 0.\n",
        "    for j in range(num_iter_per_epoch):\n",
        "      loss_cur, _ = sess.run([loss, train_op])\n",
        "      aver_loss += loss_cur\n",
        "      if j % 300 == 0:\n",
        "        print('Loss: ', aver_loss / 300.)\n",
        "        aver_loss = 0.\n",
        "\n",
        "      losses.append(loss_cur)\n",
        "\n",
        "test_seqs = tokenizer.texts_to_sequences(test.text)\n",
        "padded_test = pad_sequences(test_seqs, maxlen=20, dtype='int32', padding='post', truncating='pre', value=0.0)\n",
        "\n",
        "test_pred = sess.run(probs, feed_dict={inputs: padded_test})\n",
        "\n",
        "print(roc_auc_score(y_test, test_pred))\n"
      ],
      "execution_count": 63,
      "outputs": [
        {
          "output_type": "stream",
          "text": [
            "Epoch  0\n",
            "Loss:  0.002306346297264099\n",
            "Loss:  0.5319082006812096\n",
            "Loss:  0.5016212233901024\n",
            "Loss:  0.484331061343352\n",
            "Loss:  0.47405872801939647\n",
            "Loss:  0.46908653448025384\n",
            "Loss:  0.4547694943348567\n",
            "Loss:  0.44806372086207075\n",
            "Loss:  0.43468241145213443\n",
            "Loss:  0.42350608120361966\n",
            "0.887129819333209\n"
          ],
          "name": "stdout"
        }
      ]
    },
    {
      "metadata": {
        "id": "yli9LlISiAw1",
        "colab_type": "code",
        "colab": {
          "base_uri": "https://localhost:8080/",
          "height": 225
        },
        "outputId": "c55faeb2-9379-402e-a91b-c3b550279857"
      },
      "cell_type": "code",
      "source": [
        "#шестой вопрос\n",
        "tf.reset_default_graph()\n",
        "\n",
        "dataset = tf.data.Dataset.from_tensor_slices((padded, y_train)).shuffle(200).repeat().batch(200)\n",
        "\n",
        "iterator = dataset.make_one_shot_iterator()\n",
        "get_next = iterator.get_next()\n",
        "#print(get_next)\n",
        "inputs, labels = get_next\n",
        "\n",
        "embedding_mtx = tf.get_variable(name=\"embedding_mtx\",\n",
        "                              shape=embedding_matrix.shape,\n",
        "                              initializer=tf.constant_initializer(embedding_matrix),\n",
        "                              trainable=False)\n",
        "\n",
        "inputs_embedded = tf.nn.embedding_lookup(params=embedding_mtx, ids=inputs)\n",
        "\n",
        "outputs, states = tf.nn.bidirectional_dynamic_rnn(cell_fw=tf.nn.rnn_cell.LSTMCell(100), cell_bw=tf.nn.rnn_cell.LSTMCell(100), inputs=inputs_embedded, dtype=tf.float32)\n",
        "\n",
        "output_fw, output_bw = outputs\n",
        "states_fw, states_bw = states\n",
        "outputs = tf.reduce_sum([output_fw, output_bw], 0)\n",
        "outputs = tf.layers.flatten(outputs)\n",
        "\n",
        "\n",
        "logits = tf.layers.dense(inputs=outputs, units=1)\n",
        "\n",
        "probs = tf.nn.sigmoid(logits)\n",
        "\n",
        "loss = tf.nn.sigmoid_cross_entropy_with_logits(\n",
        "    labels=tf.cast(labels, dtype=tf.float32),\n",
        "    logits=logits,\n",
        "    name='loss'\n",
        ")\n",
        "loss = tf.reduce_mean(loss)\n",
        "\n",
        "train_op = tf.train.AdamOptimizer(learning_rate).minimize(loss)\n",
        "\n",
        "losses = []\n",
        "num_epochs = 1\n",
        "num_iter_per_epoch = 3000\n",
        "#config = tf.ConfigProto()\n",
        "#config.gpu_options.allow_growth = True\n",
        "\n",
        "with tf.device('/gpu:0'):\n",
        "  sess = tf.Session() #config=tf.ConfigProto(log_device_placement=True))\n",
        "  sess.run(tf.global_variables_initializer())\n",
        "  for i in range(num_epochs):\n",
        "    print('Epoch ',i)\n",
        "    aver_loss = 0.\n",
        "    for j in range(num_iter_per_epoch):\n",
        "      loss_cur, _ = sess.run([loss, train_op])\n",
        "      aver_loss += loss_cur\n",
        "      if j % 300 == 0:\n",
        "        print('Loss: ', aver_loss / 300.)\n",
        "        aver_loss = 0.\n",
        "\n",
        "      losses.append(loss_cur)\n",
        "\n",
        "test_seqs = tokenizer.texts_to_sequences(test.text)\n",
        "padded_test = pad_sequences(test_seqs, maxlen=20, dtype='int32', padding='post', truncating='pre', value=0.0)\n",
        "\n",
        "test_pred = sess.run(probs, feed_dict={inputs: padded_test})\n",
        "\n",
        "print(roc_auc_score(y_test, test_pred))\n"
      ],
      "execution_count": 68,
      "outputs": [
        {
          "output_type": "stream",
          "text": [
            "Epoch  0\n",
            "Loss:  0.00229197363058726\n",
            "Loss:  0.5322760253151257\n",
            "Loss:  0.5016051863630613\n",
            "Loss:  0.48460835695266724\n",
            "Loss:  0.47478221674760185\n",
            "Loss:  0.47055529594421386\n",
            "Loss:  0.45636522938807805\n",
            "Loss:  0.44911640803019204\n",
            "Loss:  0.4376836630702019\n",
            "Loss:  0.4274349311987559\n",
            "0.8752095362264853\n"
          ],
          "name": "stdout"
        }
      ]
    },
    {
      "metadata": {
        "id": "5ay4PCmFBVMG",
        "colab_type": "code",
        "colab": {}
      },
      "cell_type": "code",
      "source": [
        "#Это офигительно странно что получаются такие результаты, у меня есть подозрение что я что-то делаю неправильно "
      ],
      "execution_count": 0,
      "outputs": []
    }
  ]
}