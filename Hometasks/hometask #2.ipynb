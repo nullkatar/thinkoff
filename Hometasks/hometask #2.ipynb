{
 "cells": [
  {
   "cell_type": "code",
   "execution_count": 1,
   "metadata": {},
   "outputs": [
    {
     "name": "stdout",
     "output_type": "stream",
     "text": [
      "Populating the interactive namespace from numpy and matplotlib\n"
     ]
    }
   ],
   "source": [
    "import pandas as pd\n",
    "import numpy as np\n",
    "%pylab inline"
   ]
  },
  {
   "cell_type": "markdown",
   "metadata": {},
   "source": [
    "### Краткое описание\n",
    "Ваша задача разработать систему, способную разрешать неоднозначность, возникающую в употреблении омонимичных форм."
   ]
  },
  {
   "cell_type": "code",
   "execution_count": 3,
   "metadata": {},
   "outputs": [
    {
     "data": {
      "text/html": [
       "<div>\n",
       "<style>\n",
       "    .dataframe thead tr:only-child th {\n",
       "        text-align: right;\n",
       "    }\n",
       "\n",
       "    .dataframe thead th {\n",
       "        text-align: left;\n",
       "    }\n",
       "\n",
       "    .dataframe tbody tr th {\n",
       "        vertical-align: top;\n",
       "    }\n",
       "</style>\n",
       "<table border=\"1\" class=\"dataframe\">\n",
       "  <thead>\n",
       "    <tr style=\"text-align: right;\">\n",
       "      <th></th>\n",
       "      <th>context_id</th>\n",
       "      <th>word</th>\n",
       "      <th>gold_sense_id</th>\n",
       "      <th>predict_sense_id</th>\n",
       "      <th>positions</th>\n",
       "      <th>context</th>\n",
       "    </tr>\n",
       "  </thead>\n",
       "  <tbody>\n",
       "    <tr>\n",
       "      <th>0</th>\n",
       "      <td>1</td>\n",
       "      <td>замок</td>\n",
       "      <td>1</td>\n",
       "      <td>NaN</td>\n",
       "      <td>NaN</td>\n",
       "      <td>замок владимира мономаха в любече . многочисле...</td>\n",
       "    </tr>\n",
       "    <tr>\n",
       "      <th>1</th>\n",
       "      <td>2</td>\n",
       "      <td>замок</td>\n",
       "      <td>1</td>\n",
       "      <td>NaN</td>\n",
       "      <td>NaN</td>\n",
       "      <td>шильонский замок замок шильйон ( ) , известный...</td>\n",
       "    </tr>\n",
       "    <tr>\n",
       "      <th>2</th>\n",
       "      <td>3</td>\n",
       "      <td>замок</td>\n",
       "      <td>1</td>\n",
       "      <td>NaN</td>\n",
       "      <td>NaN</td>\n",
       "      <td>проведения архитектурно - археологических рабо...</td>\n",
       "    </tr>\n",
       "    <tr>\n",
       "      <th>3</th>\n",
       "      <td>4</td>\n",
       "      <td>замок</td>\n",
       "      <td>1</td>\n",
       "      <td>NaN</td>\n",
       "      <td>NaN</td>\n",
       "      <td>топи с . , л . белокуров легенда о завещании м...</td>\n",
       "    </tr>\n",
       "    <tr>\n",
       "      <th>4</th>\n",
       "      <td>5</td>\n",
       "      <td>замок</td>\n",
       "      <td>1</td>\n",
       "      <td>NaN</td>\n",
       "      <td>NaN</td>\n",
       "      <td>великий князь литовский гедимин после успешной...</td>\n",
       "    </tr>\n",
       "  </tbody>\n",
       "</table>\n",
       "</div>"
      ],
      "text/plain": [
       "  context_id   word  gold_sense_id  predict_sense_id  positions  \\\n",
       "0          1  замок              1               NaN        NaN   \n",
       "1          2  замок              1               NaN        NaN   \n",
       "2          3  замок              1               NaN        NaN   \n",
       "3          4  замок              1               NaN        NaN   \n",
       "4          5  замок              1               NaN        NaN   \n",
       "\n",
       "                                             context  \n",
       "0  замок владимира мономаха в любече . многочисле...  \n",
       "1  шильонский замок замок шильйон ( ) , известный...  \n",
       "2  проведения архитектурно - археологических рабо...  \n",
       "3  топи с . , л . белокуров легенда о завещании м...  \n",
       "4  великий князь литовский гедимин после успешной...  "
      ]
     },
     "execution_count": 3,
     "metadata": {},
     "output_type": "execute_result"
    }
   ],
   "source": [
    "data = pd.read_csv(\"train.csv\", sep='\\t')\n",
    "data.head()"
   ]
  },
  {
   "cell_type": "markdown",
   "metadata": {},
   "source": [
    "Вам дается набор \"главных слов\". Или слов, которые имеют несколько возможных смыслов в тексте.\n",
    "\n",
    "Например, слово лук может встречаться в значении оружие или в значении овощ.\n",
    "\n",
    "Ваша задача сопоставить одинаковые метки тем контекстам, в которых \"главное слово\" встречается в одном и том же значении. Важно учесть, что предполагается, что число возможных смыслов у \"главного слова\" заранее неизвестно. Таким образом это фактически задача кластеризации с заранее неизвестным числом классов.\n",
    "\n",
    "Также предполагается, что система будет применяться к \"главным словам\", которых нет в вашей обучающей выборке.\n",
    "\n",
    "В текущем варианте задания ваша задача построить и протестировать систему на датасете wiki-wiki, собранном из статей википедии.\n",
    "\n",
    "Это очень маленький датасет, в нем всего 4 \"главных слова\":"
   ]
  },
  {
   "cell_type": "code",
   "execution_count": null,
   "metadata": {
    "collapsed": true
   },
   "outputs": [],
   "source": [
    "data.word.unique()"
   ]
  },
  {
   "cell_type": "markdown",
   "metadata": {},
   "source": [
    "Т.к. это тренировочный датасет, правильные метки для каждого контекста известны и можно посмотреть некоторую статистику по ним.\n",
    "\n",
    "#### Сколько контекстов приходится на каждое слово?"
   ]
  },
  {
   "cell_type": "code",
   "execution_count": 4,
   "metadata": {},
   "outputs": [
    {
     "data": {
      "text/plain": [
       "word\n",
       "замок    138\n",
       "суда     135\n",
       "лук      110\n",
       "бор       56\n",
       "Name: context, dtype: int64"
      ]
     },
     "execution_count": 4,
     "metadata": {},
     "output_type": "execute_result"
    }
   ],
   "source": [
    "data.loc[:,['word', 'gold_sense_id', 'context']]\\\n",
    ".groupby(['word']).count()['context'].sort_values(ascending=False)"
   ]
  },
  {
   "cell_type": "markdown",
   "metadata": {},
   "source": [
    "#### Cколько контекстов приходится на одно смысловое значение слова?"
   ]
  },
  {
   "cell_type": "code",
   "execution_count": 5,
   "metadata": {},
   "outputs": [
    {
     "data": {
      "text/plain": [
       "word   gold_sense_id\n",
       "бор    1                 14\n",
       "       2                 42\n",
       "замок  1                100\n",
       "       2                 38\n",
       "лук    1                 65\n",
       "       2                 45\n",
       "суда   1                100\n",
       "       2                 35\n",
       "Name: context, dtype: int64"
      ]
     },
     "execution_count": 5,
     "metadata": {},
     "output_type": "execute_result"
    }
   ],
   "source": [
    "data.loc[:,['word', 'gold_sense_id', 'context']]\\\n",
    ".groupby(['word', 'gold_sense_id'])['context'].count()"
   ]
  },
  {
   "cell_type": "markdown",
   "metadata": {},
   "source": [
    "### Важное замечание\n",
    "\n",
    "Как можно заметить, в этом датасете ровно по 2 смысла у каждого слова.\n",
    "\n",
    "Таким образом, разрешается в качестве k у KMeans взять значение 2.\n",
    "\n",
    "from sklearn.cluster import KMeans\n",
    "\n",
    "KMeans(\n",
    "### Про кластеризацию"
   ]
  },
  {
   "cell_type": "code",
   "execution_count": null,
   "metadata": {
    "collapsed": true
   },
   "outputs": [],
   "source": [
    "from sklearn.cluster import KMeans"
   ]
  },
  {
   "cell_type": "code",
   "execution_count": null,
   "metadata": {
    "collapsed": true
   },
   "outputs": [],
   "source": [
    "# запускаем кластеризацию отдельно для каждого набора контекстов, соответствующих своему \"главному слову\"\n",
    "km = KMeans(n_clusters=2)\n",
    "# Таким образом запускаем\n",
    "# km.fit_predict(X)"
   ]
  },
  {
   "cell_type": "markdown",
   "metadata": {},
   "source": [
    "Что нужно сделать, чтобы посчитать метрику ARI?\n",
    "\n",
    "from sklearn.metrics import adjusted_rand_score\n",
    "\n",
    "Передать туда предсказанные метки и gold_sense_id из датасета."
   ]
  },
  {
   "cell_type": "markdown",
   "metadata": {},
   "source": [
    "\n",
    "План\n",
    "\n",
    "Ознакомится с постановкой задачи и метрикой ARI\n",
    "Получить вектора-представления слов. Возможные пути решения:\n",
    "Обучить эмбеддинги с помощью FastText на найденном вами же большом корпусе русского языка.\n",
    "Скачать готовые эмбеддинги. Это потребует определенного препроцессинга тестового датасета, чтобы слова в нем соответствовали словам в словаре скачанных эмбеддингов (например, в случае использования rusVectores потребуется добавить к каждому слову часть речи).\n",
    "Придумать способ представления контекста с помощью имеющихся эмбеддингов слов. Hint: можно также воспользоваться знаниями о TF-IDF представлении текста в совокупности с предобученными эмбеддингами слов.\n",
    "Воспользоваться алгоритмом кластеризации KMeans чтобы собрать контексты с одинаковым смысловым значением \"главного слова\" в один кластер.\n",
    "Посчитать метрику ARI для полученной кластеризации.\n",
    "Лучшее представление текста дает лучшую кластеризацию. Фокус данного задания не на алгоритме кластеризации, а на получении наиболее хорошего представления для векторов контекста.\n",
    "\n",
    "Для удобства работы с эмбеддингами предлагается воспользоваться пакетом gensim"
   ]
  },
  {
   "cell_type": "code",
   "execution_count": null,
   "metadata": {
    "collapsed": true
   },
   "outputs": [],
   "source": [
    "from gensim.models import KeyedVectors\n",
    "wv = KeyedVectors.load_word2vec_format(\"../models/model_big_one.vec\", binary=False)"
   ]
  }
 ],
 "metadata": {
  "kernelspec": {
   "display_name": "Python 3",
   "language": "python",
   "name": "python3"
  },
  "language_info": {
   "codemirror_mode": {
    "name": "ipython",
    "version": 3
   },
   "file_extension": ".py",
   "mimetype": "text/x-python",
   "name": "python",
   "nbconvert_exporter": "python",
   "pygments_lexer": "ipython3",
   "version": "3.6.2"
  }
 },
 "nbformat": 4,
 "nbformat_minor": 2
}
